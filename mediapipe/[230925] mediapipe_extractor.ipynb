{
 "cells": [
  {
   "cell_type": "code",
   "execution_count": 2,
   "metadata": {},
   "outputs": [],
   "source": [
    "import cv2\n",
    "import numpy as np\n",
    "import os\n",
    "from matplotlib import pyplot as plt\n",
    "import time\n",
    "import mediapipe as mp"
   ]
  },
  {
   "cell_type": "code",
   "execution_count": 3,
   "metadata": {},
   "outputs": [],
   "source": [
    "mp_holistic = mp.solutions.holistic # Holistic model\n",
    "mp_drawing = mp.solutions.drawing_utils # Drawing utilities"
   ]
  },
  {
   "cell_type": "code",
   "execution_count": 11,
   "metadata": {},
   "outputs": [],
   "source": [
    "def mediapipe_detection(image, model):\n",
    "    image = cv2.cvtColor(image, cv2.COLOR_BGR2RGB) # COLOR CONVERSION BGR 2 RGB\n",
    "    image.flags.writeable = False                  # Image is no longer writeable\n",
    "    results = model.process(image)                 # Make prediction\n",
    "    image.flags.writeable = True                   # Image is now writeable \n",
    "    image = cv2.cvtColor(image, cv2.COLOR_RGB2BGR) # COLOR COVERSION RGB 2 BGR\n",
    "    return image, results\n",
    "\n",
    "def draw_landmarks(image, results):\n",
    "    # mp_drawing.draw_landmarks(image, results.face_landmarks, mp_holistic.FACEMESH_TESSELATION) # Draw face connections\n",
    "    mp_drawing.draw_landmarks(image, results.pose_landmarks, mp_holistic.POSE_CONNECTIONS) # Draw pose connections\n",
    "    # mp_drawing.draw_landmarks(image, results.left_hand_landmarks, mp_holistic.HAND_CONNECTIONS) # Draw left hand connections\n",
    "    # mp_drawing.draw_landmarks(image, results.right_hand_landmarks, mp_holistic.HAND_CONNECTIONS)\n",
    "\n",
    "def extract_keypoints(results):\n",
    "    pose = np.array([[res.x, res.y, res.z, res.visibility] for res in results.pose_landmarks.landmark]).flatten() if results.pose_landmarks else np.zeros(33*4)\n",
    "    face = np.array([[res.x, res.y, res.z] for res in results.face_landmarks.landmark]).flatten() if results.face_landmarks else np.zeros(468*3)\n",
    "    lh = np.array([[res.x, res.y, res.z] for res in results.left_hand_landmarks.landmark]).flatten() if results.left_hand_landmarks else np.zeros(21*3)\n",
    "    rh = np.array([[res.x, res.y, res.z] for res in results.right_hand_landmarks.landmark]).flatten() if results.right_hand_landmarks else np.zeros(21*3)\n",
    "    return np.concatenate([pose, face, lh, rh])\n",
    "\n",
    "def draw_styled_landmarks(image, results):\n",
    "    # Draw face connections\n",
    "    # mp_drawing.draw_landmarks(image, results.face_landmarks, mp_holistic.FACEMESH_TESSELATION, \n",
    "    #                          mp_drawing.DrawingSpec(color=(80,110,10), thickness=1, circle_radius=1), \n",
    "    #                          mp_drawing.DrawingSpec(color=(80,256,121), thickness=1, circle_radius=1)\n",
    "    #                          ) \n",
    "    # Draw pose connections\n",
    "    mp_drawing.draw_landmarks(image, results.pose_landmarks, mp_holistic.POSE_CONNECTIONS,\n",
    "                             mp_drawing.DrawingSpec(color=(80,22,10), thickness=1, circle_radius=2), \n",
    "                             mp_drawing.DrawingSpec(color=(80,44,121), thickness=1, circle_radius=2)\n",
    "                             ) \n",
    "    # # Draw left hand connections\n",
    "    # mp_drawing.draw_landmarks(image, results.left_hand_landmarks, mp_holistic.HAND_CONNECTIONS, \n",
    "    #                          mp_drawing.DrawingSpec(color=(121,22,76), thickness=2, circle_radius=4), \n",
    "    #                          mp_drawing.DrawingSpec(color=(121,44,250), thickness=2, circle_radius=2)\n",
    "    #                          ) \n",
    "    # # Draw right hand connections  \n",
    "    # mp_drawing.draw_landmarks(image, results.right_hand_landmarks, mp_holistic.HAND_CONNECTIONS, \n",
    "    #                          mp_drawing.DrawingSpec(color=(245,117,66), thickness=2, circle_radius=4), \n",
    "    #                          mp_drawing.DrawingSpec(color=(245,66,230), thickness=2, circle_radius=2)\n",
    "                            #  )"
   ]
  },
  {
   "cell_type": "markdown",
   "metadata": {},
   "source": [
    "#### Data list"
   ]
  },
  {
   "cell_type": "code",
   "execution_count": 4,
   "metadata": {},
   "outputs": [
    {
     "name": "stdout",
     "output_type": "stream",
     "text": [
      "52\n",
      "53\n",
      "54\n",
      "47\n"
     ]
    }
   ],
   "source": [
    "whole_list_NF_C1 = []\n",
    "\n",
    "for i in os.listdir('/Users/kimmonica/Documents/NIA_FALL/NIA_dataset/for use/2023-08-24/N'):\n",
    "    if 'C1' in i:\n",
    "        path = '/Users/kimmonica/Documents/NIA_FALL/NIA_dataset/for use/2023-08-24/N/'+i+'/'+i+'.mp4'\n",
    "        whole_list_NF_C1.append(path)\n",
    "\n",
    "for i in os.listdir('/Users/kimmonica/Documents/NIA_FALL/NIA_dataset/for use/2023-08-25/N'):\n",
    "    if 'C1' in i:\n",
    "        path = '/Users/kimmonica/Documents/NIA_FALL/NIA_dataset/for use/2023-08-25/N/'+i+'/'+i+'.mp4'\n",
    "        whole_list_NF_C1.append(path)\n",
    "\n",
    "print(len(whole_list_NF_C1))\n",
    "\n",
    "whole_list_FY_C1 = []\n",
    "\n",
    "for i in os.listdir('/Users/kimmonica/Documents/NIA_FALL/NIA_dataset/for use/2023-08-24/Y/FY'):\n",
    "    if 'C1' in i:\n",
    "        path = '/Users/kimmonica/Documents/NIA_FALL/NIA_dataset/for use/2023-08-24/Y/FY/'+i+'/'+i+'.mp4'\n",
    "        whole_list_FY_C1.append(path)\n",
    "\n",
    "for i in os.listdir('/Users/kimmonica/Documents/NIA_FALL/NIA_dataset/for use/2023-08-25/Y/FY'):\n",
    "    if 'C1' in i:\n",
    "        path = '/Users/kimmonica/Documents/NIA_FALL/NIA_dataset/for use/2023-08-25/Y/FY/'+i+'/'+i+'.mp4'\n",
    "        whole_list_FY_C1.append(path)\n",
    "\n",
    "print(len(whole_list_FY_C1))\n",
    "\n",
    "whole_list_SY_C1 = []\n",
    "\n",
    "for i in os.listdir('/Users/kimmonica/Documents/NIA_FALL/NIA_dataset/for use/2023-08-24/Y/SY'):\n",
    "    if 'C1' in i:\n",
    "        path = '/Users/kimmonica/Documents/NIA_FALL/NIA_dataset/for use/2023-08-24/Y/SY/'+i+'/'+i+'.mp4'\n",
    "        whole_list_SY_C1.append(path)\n",
    "\n",
    "for i in os.listdir('/Users/kimmonica/Documents/NIA_FALL/NIA_dataset/for use/2023-08-25/Y/SY'):\n",
    "    if 'C1' in i:\n",
    "        path = '/Users/kimmonica/Documents/NIA_FALL/NIA_dataset/for use/2023-08-25/Y/SY/'+i+'/'+i+'.mp4'\n",
    "        whole_list_SY_C1.append(path)\n",
    "\n",
    "print(len(whole_list_SY_C1))\n",
    "\n",
    "whole_list_BY_C1 = []\n",
    "\n",
    "for i in os.listdir('/Users/kimmonica/Documents/NIA_FALL/NIA_dataset/for use/2023-08-24/Y/BY'):\n",
    "    if 'C1' in i:\n",
    "        path = '/Users/kimmonica/Documents/NIA_FALL/NIA_dataset/for use/2023-08-24/Y/BY/'+i+'/'+i+'.mp4'\n",
    "        whole_list_BY_C1.append(path)\n",
    "\n",
    "for i in os.listdir('/Users/kimmonica/Documents/NIA_FALL/NIA_dataset/for use/2023-08-25/Y/BY'):\n",
    "    if 'C1' in i:\n",
    "        path = '/Users/kimmonica/Documents/NIA_FALL/NIA_dataset/for use/2023-08-25/Y/BY/'+i+'/'+i+'.mp4'\n",
    "        whole_list_BY_C1.append(path)\n",
    "\n",
    "print(len(whole_list_BY_C1))\n"
   ]
  },
  {
   "cell_type": "markdown",
   "metadata": {},
   "source": [
    "#### mediapipe"
   ]
  },
  {
   "cell_type": "code",
   "execution_count": 29,
   "metadata": {},
   "outputs": [
    {
     "name": "stderr",
     "output_type": "stream",
     "text": [
      "OpenCV: FFMPEG: tag 0x58564944/'DIVX' is not supported with codec id 12 and format 'mp4 / MP4 (MPEG-4 Part 14)'\n",
      "OpenCV: FFMPEG: fallback to use tag 0x7634706d/'mp4v'\n"
     ]
    },
    {
     "name": "stdout",
     "output_type": "stream",
     "text": [
      "/Users/kimmonica/Documents/NIA_FALL/NIA_dataset/for use/2023-08-24/Y/FY/00071_H_A_FY_C1/00071_H_A_FY_C1.mp4\n",
      "released\n"
     ]
    }
   ],
   "source": [
    "fourcc = cv2.VideoWriter_fourcc(*'DIVX')\n",
    "fps = 60\n",
    "\n",
    "for num, i in enumerate(whole_list_FY_C1):\n",
    "    cap = cv2.VideoCapture(i)\n",
    "\n",
    "    #npy\n",
    "    os.mkdir('/Users/kimmonica/Documents/NIA_FALL/mediapipe_dataset/npy/npy_c1/FY/{}'.format(num))\n",
    "\n",
    "    #vid\n",
    "    filename = i.split('/')[-1]\n",
    "    vid_save = '/Users/kimmonica/Documents/NIA_FALL/mediapipe_dataset/vid/vid_c1/FY/key_{}'.format(filename)\n",
    "    out = cv2.VideoWriter(vid_save, fourcc, fps, (480, 270))\n",
    "    \n",
    "# Set mediapipe model \n",
    "    with mp_holistic.Holistic(min_detection_confidence=0.1, min_tracking_confidence=0.1) as holistic:\n",
    "        k=0\n",
    "        while cap.isOpened():\n",
    "    \n",
    "            # Read feed\n",
    "            ret, frame = cap.read()\n",
    "\n",
    "            # Make detections\n",
    "            black = np.zeros((270, 480, 3), np.uint8)\n",
    "\n",
    "            try:\n",
    "                image, results = mediapipe_detection(frame, holistic)\n",
    "                draw_styled_landmarks(black, results)\n",
    "                result_test = extract_keypoints(results)\n",
    "                \n",
    "                cv2.imshow('frame', black)\n",
    "                out.write(black)\n",
    "                # print(result_test)\n",
    "\n",
    "                if cv2.waitKey(10) == 27:\n",
    "                    break\n",
    "\n",
    "                np.save('/Users/kimmonica/Documents/NIA_FALL/mediapipe_dataset/npy/npy_c1/FY/{}/{}.npy'.format(num, k), result_test)\n",
    "                # np.load('/Users/kimmonica/Documents/NIA_FALL/mediapipe_dataset/npy/npy_c1/FY/FY/{}/{}.npy'.format(num, k))\n",
    "                k+=1\n",
    "            except:\n",
    "                print(i)\n",
    "                break\n",
    "        cap.release()\n",
    "        out.release()\n",
    "\n",
    "cv2.destroyAllWindows()\n",
    "for i in range (1,5):\n",
    "    cv2.waitKey(1)\n",
    "    \n",
    "print('released')"
   ]
  },
  {
   "cell_type": "code",
   "execution_count": null,
   "metadata": {},
   "outputs": [],
   "source": []
  }
 ],
 "metadata": {
  "kernelspec": {
   "display_name": "NIA",
   "language": "python",
   "name": "python3"
  },
  "language_info": {
   "codemirror_mode": {
    "name": "ipython",
    "version": 3
   },
   "file_extension": ".py",
   "mimetype": "text/x-python",
   "name": "python",
   "nbconvert_exporter": "python",
   "pygments_lexer": "ipython3",
   "version": "3.8.17"
  },
  "orig_nbformat": 4
 },
 "nbformat": 4,
 "nbformat_minor": 2
}
