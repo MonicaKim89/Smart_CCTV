{
 "cells": [
  {
   "cell_type": "code",
   "execution_count": 2,
   "metadata": {},
   "outputs": [],
   "source": [
    "import numpy as np\n",
    "import cv2\n",
    "import cv2 as cv\n",
    "from FINAL_IMG_PREP import *\n",
    "from video_info import *"
   ]
  },
  {
   "cell_type": "code",
   "execution_count": 17,
   "metadata": {},
   "outputs": [
    {
     "name": "stdout",
     "output_type": "stream",
     "text": [
      "< cv2.VideoCapture 0x290da92d0>\n",
      "cap < cv2.VideoCapture 0x290da92d0>, width 1280.0, height 720.0, fps 30.000025531936622\n",
      "codec {0} filename 0903_test.mp4\n",
      "30.000025531936622\n",
      "1145656920\n"
     ]
    },
    {
     "name": "stderr",
     "output_type": "stream",
     "text": [
      "OpenCV: FFMPEG: tag 0x44495658/'XVID' is not supported with codec id 12 and format 'mp4 / MP4 (MPEG-4 Part 14)'\n",
      "OpenCV: FFMPEG: fallback to use tag 0x7634706d/'mp4v'\n"
     ]
    }
   ],
   "source": [
    "path = '/Users/monica_air/Documents/CCTV/C045100_001.mp4'\n",
    "cap, width, height, fps, fourcc, filename, out = vid_info(path, 'XVID','0903_test')\n",
    "print(fps)\n",
    "print(fourcc)"
   ]
  },
  {
   "cell_type": "code",
   "execution_count": 18,
   "metadata": {},
   "outputs": [],
   "source": [
    "folder_path = '/Users/monica_air/Documents/CCTV/1. 해외환경(1500개)/1. 배회(325개)'\n",
    "\n",
    "list_ = os.listdir(folder_path)\n",
    "file_list=[]\n",
    "for i in list_:\n",
    "    if '.mp4'in i:\n",
    "        file_list.append(i)\n",
    "       "
   ]
  },
  {
   "cell_type": "code",
   "execution_count": 19,
   "metadata": {},
   "outputs": [],
   "source": [
    "from tqdm import tqdm"
   ]
  },
  {
   "cell_type": "code",
   "execution_count": 22,
   "metadata": {},
   "outputs": [
    {
     "name": "stderr",
     "output_type": "stream",
     "text": [
      "  0%|          | 0/295 [00:00<?, ?it/s]OpenCV: FFMPEG: tag 0x44495658/'XVID' is not supported with codec id 12 and format 'mp4 / MP4 (MPEG-4 Part 14)'\n",
      "OpenCV: FFMPEG: fallback to use tag 0x7634706d/'mp4v'\n"
     ]
    },
    {
     "name": "stdout",
     "output_type": "stream",
     "text": [
      "< cv2.VideoCapture 0x290e30c50>\n",
      "cap < cv2.VideoCapture 0x290e30c50>, width 1280.0, height 720.0, fps 30.000025477728645\n",
      "codec {0} filename 0903_test.mp4\n"
     ]
    }
   ],
   "source": [
    "start_list_v2= []\n",
    "end_list_v2=[]\n",
    "file_name_v2 = []\n",
    "\n",
    "for i in tqdm (file_list[30:]):\n",
    "    try:\n",
    "        path = '/Users/monica_air/Documents/CCTV/1. 해외환경(1500개)/1. 배회(325개)/'+i\n",
    "            \n",
    "        cap, width, height, fps, fourcc, filename, out = vid_info(path, 'XVID','0903_test')\n",
    "        # print(fps)\n",
    "        if not cap.isOpened():\n",
    "            print('Video open failed!')\n",
    "            sys.exit()\n",
    "\n",
    "        # 배경 영상 등록\n",
    "        ret, back = cap.read()\n",
    "\n",
    "        if not ret:\n",
    "            print('Background image registration failed!')\n",
    "            sys.exit()\n",
    "            \n",
    "        # 연산 속도를 높이기 위해 그레이스케일 영상으로 변환\n",
    "        back = cv2.cvtColor(back, cv2.COLOR_BGR2GRAY)\n",
    "\n",
    "        # 가우시안 블러로 노이즈 제거 (모폴로지, 열기, 닫기 연산도 가능)\n",
    "        back = cv2.GaussianBlur(back, (0, 0), 1.0)\n",
    "        frame_num = []\n",
    "        z=0\n",
    "        # 비디오 매 프레임 처리\n",
    "        while True:\n",
    "            ret, frame = cap.read()\n",
    "            z+=1\n",
    "            if not ret:\n",
    "                break\n",
    "            \n",
    "            # 현재 프레임 영상 그레이스케일 변환\n",
    "            gray = cv2.cvtColor(frame, cv2.COLOR_BGR2GRAY)\n",
    "            # 노이즈 제거\n",
    "            gray = cv2.GaussianBlur(gray, (0, 0), 1.0)\n",
    "            \n",
    "            # 차영상 구하기 $ 이진화\n",
    "            # absdiff는 차 영상에 절대값\n",
    "            diff = cv2.absdiff(gray, back)\n",
    "            # gray_mean() or 밝기정도 지정 가능\n",
    "            ####!!!!!back.mean()으로 하면 smoke까지 가능?\n",
    "            _, diff = cv2.threshold(diff, 100, 255, cv2.THRESH_BINARY)\n",
    "            \n",
    "            # 레이브링을 이용하여 바운딩 박스 표시\n",
    "            cnt, _, stats, _ = cv2.connectedComponentsWithStats(diff)\n",
    "            \n",
    "            #contour\n",
    "        #     dilated = cv2.dilate(diff, None, iteration=3)\n",
    "\n",
    "            # contours, _ = cv2.findContours(diff, cv2.RETR_TREE, cv2.CHAIN_APPROX_SIMPLE)\n",
    "            \n",
    "            \n",
    "            for i in range(1, cnt):\n",
    "                x, y, w, h, s = stats[i]\n",
    "                \n",
    "                if s < 100: # 작을 수록 더 많이 추출\n",
    "                    continue\n",
    "                \n",
    "                # cv2.drawContours(frame, contours, -1, (0, 0, 255),2)\n",
    "                if x+y+w+h >=500:\n",
    "                    pass\n",
    "                    # cv2.rectangle(frame, (x, y, w, h), (0, 255, 0), 2)\n",
    "                    # cv2.putText(frame, \"Frame:{}\".format(z), (10,20),cv2.FONT_HERSHEY_SIMPLEX,\n",
    "                    #         1, (0,0,255),3)\n",
    "                    frame_num.append(z)\n",
    "        start = str(frame_num[0])\n",
    "        end = str(frame_num[-1])\n",
    "        \n",
    "        file_name_v2.append(i)\n",
    "        start_list_v2.append(start)\n",
    "        end_list_v2.append(end)\n",
    "    except:\n",
    "        pass\n",
    "    "
   ]
  },
  {
   "cell_type": "code",
   "execution_count": 49,
   "metadata": {},
   "outputs": [
    {
     "name": "stdout",
     "output_type": "stream",
     "text": [
      "< cv2.VideoCapture 0x2aa57c110>\n",
      "cap < cv2.VideoCapture 0x2aa57c110>, width 1280.0, height 720.0, fps 30.000026086979204\n",
      "codec {0} filename 0903_test.mp4\n",
      "30.000026086979204\n"
     ]
    },
    {
     "name": "stderr",
     "output_type": "stream",
     "text": [
      "OpenCV: FFMPEG: tag 0x44495658/'XVID' is not supported with codec id 12 and format 'mp4 / MP4 (MPEG-4 Part 14)'\n",
      "OpenCV: FFMPEG: fallback to use tag 0x7634706d/'mp4v'\n"
     ]
    },
    {
     "ename": "KeyboardInterrupt",
     "evalue": "",
     "output_type": "error",
     "traceback": [
      "\u001b[0;31m---------------------------------------------------------------------------\u001b[0m",
      "\u001b[0;31mKeyboardInterrupt\u001b[0m                         Traceback (most recent call last)",
      "\u001b[1;32m/Users/monica_air/Documents/CCTV/motion_detector.ipynb 셀 6\u001b[0m in \u001b[0;36m<cell line: 23>\u001b[0;34m()\u001b[0m\n\u001b[1;32m     <a href='vscode-notebook-cell:/Users/monica_air/Documents/CCTV/motion_detector.ipynb#W6sZmlsZQ%3D%3D?line=21'>22</a>\u001b[0m \u001b[39m# 비디오 매 프레임 처리\u001b[39;00m\n\u001b[1;32m     <a href='vscode-notebook-cell:/Users/monica_air/Documents/CCTV/motion_detector.ipynb#W6sZmlsZQ%3D%3D?line=22'>23</a>\u001b[0m \u001b[39mwhile\u001b[39;00m \u001b[39mTrue\u001b[39;00m:\n\u001b[0;32m---> <a href='vscode-notebook-cell:/Users/monica_air/Documents/CCTV/motion_detector.ipynb#W6sZmlsZQ%3D%3D?line=23'>24</a>\u001b[0m     ret, frame \u001b[39m=\u001b[39m cap\u001b[39m.\u001b[39;49mread()\n\u001b[1;32m     <a href='vscode-notebook-cell:/Users/monica_air/Documents/CCTV/motion_detector.ipynb#W6sZmlsZQ%3D%3D?line=24'>25</a>\u001b[0m     z\u001b[39m+\u001b[39m\u001b[39m=\u001b[39m\u001b[39m1\u001b[39m\n\u001b[1;32m     <a href='vscode-notebook-cell:/Users/monica_air/Documents/CCTV/motion_detector.ipynb#W6sZmlsZQ%3D%3D?line=25'>26</a>\u001b[0m     \u001b[39mif\u001b[39;00m \u001b[39mnot\u001b[39;00m ret:\n",
      "\u001b[0;31mKeyboardInterrupt\u001b[0m: "
     ]
    }
   ],
   "source": [
    "path = '/Users/monica_air/Documents/CCTV/1. 해외환경(1500개)/3. 유기(400개)/C045102_001.mp4'\n",
    "cap, width, height, fps, fourcc, filename, out = vid_info(path, 'XVID','0903_test')\n",
    "print(fps)\n",
    "if not cap.isOpened():\n",
    "    print('Video open failed!')\n",
    "    sys.exit()\n",
    "\n",
    "# 배경 영상 등록\n",
    "ret, back = cap.read()\n",
    "\n",
    "if not ret:\n",
    "    print('Background image registration failed!')\n",
    "    sys.exit()\n",
    "    \n",
    "# 연산 속도를 높이기 위해 그레이스케일 영상으로 변환\n",
    "back = cv2.cvtColor(back, cv2.COLOR_BGR2GRAY)\n",
    "\n",
    "# 가우시안 블러로 노이즈 제거 (모폴로지, 열기, 닫기 연산도 가능)\n",
    "back = cv2.GaussianBlur(back, (0, 0), 1.0)\n",
    "frame_num = []\n",
    "z=0\n",
    "# 비디오 매 프레임 처리\n",
    "while True:\n",
    "    ret, frame = cap.read()\n",
    "    z+=1\n",
    "    if not ret:\n",
    "        break\n",
    "    \n",
    "    # 현재 프레임 영상 그레이스케일 변환\n",
    "    gray = cv2.cvtColor(frame, cv2.COLOR_BGR2GRAY)\n",
    "    # 노이즈 제거\n",
    "    gray = cv2.GaussianBlur(gray, (0, 0), 1.0)\n",
    "    \n",
    "    # 차영상 구하기 $ 이진화\n",
    "    # absdiff는 차 영상에 절대값\n",
    "    diff = cv2.absdiff(gray, back)\n",
    "    # gray_mean() or 밝기정도 지정 가능\n",
    "    ####!!!!!back.mean()으로 하면 smoke까지 가능?\n",
    "    _, diff = cv2.threshold(diff, 100, 255, cv2.THRESH_BINARY)\n",
    "    \n",
    "    # 레이브링을 이용하여 바운딩 박스 표시\n",
    "    cnt, _, stats, _ = cv2.connectedComponentsWithStats(diff)\n",
    "    \n",
    "    #contour\n",
    "#     dilated = cv2.dilate(diff, None, iteration=3)\n",
    "\n",
    "    # contours, _ = cv2.findContours(diff, cv2.RETR_TREE, cv2.CHAIN_APPROX_SIMPLE)\n",
    "    \n",
    "    \n",
    "    for i in range(1, cnt):\n",
    "        x, y, w, h, s = stats[i]\n",
    "        \n",
    "        if s < 100: # 작을 수록 더 많이 추출\n",
    "            continue\n",
    "        \n",
    "        # cv2.drawContours(frame, contours, -1, (0, 0, 255),2)\n",
    "        if x+y+w+h >=500:\n",
    "        \n",
    "            cv2.rectangle(frame, (x, y, w, h), (0, 255, 0), 2)\n",
    "            # cv2.putText(frame, \"Frame:{}\".format(z), (10,20),cv2.FONT_HERSHEY_SIMPLEX,\n",
    "            #         1, (0,0,255),3)\n",
    "            frame_num.append(z)\n",
    "            break\n",
    "\n",
    "    \n",
    "        cv2.imshow('frame', frame)\n",
    "        out.write(frame)\n",
    "#     # cv2.imshow('diff', diff)\n",
    "\n",
    "    if cv2.waitKey(10) == 27:\n",
    "        break\n",
    "\n",
    "cap.release()\n",
    "out.release()\n",
    "cv2.destroyAllWindows()\n",
    "for i in range (1,5):\n",
    "    cv2.waitKey(1)"
   ]
  },
  {
   "cell_type": "code",
   "execution_count": 10,
   "metadata": {},
   "outputs": [
    {
     "data": {
      "text/plain": [
       "5822"
      ]
     },
     "execution_count": 10,
     "metadata": {},
     "output_type": "execute_result"
    }
   ],
   "source": [
    "frame_num[0]"
   ]
  },
  {
   "cell_type": "code",
   "execution_count": 11,
   "metadata": {},
   "outputs": [
    {
     "data": {
      "text/plain": [
       "8342"
      ]
     },
     "execution_count": 11,
     "metadata": {},
     "output_type": "execute_result"
    }
   ],
   "source": [
    "frame_num[-1]"
   ]
  },
  {
   "cell_type": "code",
   "execution_count": 3,
   "metadata": {},
   "outputs": [
    {
     "name": "stdout",
     "output_type": "stream",
     "text": [
      "< cv2.VideoCapture 0x1485bd130>\n",
      "cap < cv2.VideoCapture 0x1485bd130>, width 1280.0, height 720.0, fps 30.000025531936622\n",
      "codec {0} filename 0903_test.mp4\n"
     ]
    },
    {
     "name": "stderr",
     "output_type": "stream",
     "text": [
      "OpenCV: FFMPEG: tag 0x44495658/'XVID' is not supported with codec id 12 and format 'mp4 / MP4 (MPEG-4 Part 14)'\n",
      "OpenCV: FFMPEG: fallback to use tag 0x7634706d/'mp4v'\n"
     ]
    },
    {
     "data": {
      "text/plain": [
       "14100.0"
      ]
     },
     "execution_count": 3,
     "metadata": {},
     "output_type": "execute_result"
    }
   ],
   "source": [
    "path = '/Users/monica_air/Documents/CCTV/C045100_001.mp4'\n",
    "cap, width, height, fps, fourcc, filename, out = vid_info(path, 'XVID','0903_test')\n",
    "total_frames = cap.get(cv2.CAP_PROP_FRAME_COUNT)\n",
    "total_frames"
   ]
  },
  {
   "cell_type": "code",
   "execution_count": 20,
   "metadata": {},
   "outputs": [
    {
     "data": {
      "text/plain": [
       "7.833326666666667"
      ]
     },
     "execution_count": 20,
     "metadata": {},
     "output_type": "execute_result"
    }
   ],
   "source": [
    "(total_frames/fps)/60"
   ]
  },
  {
   "cell_type": "code",
   "execution_count": 35,
   "metadata": {},
   "outputs": [
    {
     "name": "stdout",
     "output_type": "stream",
     "text": [
      "Requirement already satisfied: imageio-ffmpeg in /Users/monica_air/miniforge3/envs/opencv/lib/python3.10/site-packages (0.4.7)\n"
     ]
    }
   ],
   "source": []
  },
  {
   "cell_type": "code",
   "execution_count": 37,
   "metadata": {},
   "outputs": [
    {
     "data": {
      "text/plain": [
       "194"
      ]
     },
     "execution_count": 37,
     "metadata": {},
     "output_type": "execute_result"
    }
   ],
   "source": [
    "round(5822/fps)"
   ]
  },
  {
   "cell_type": "code",
   "execution_count": 3,
   "metadata": {},
   "outputs": [],
   "source": [
    "import os\n",
    "os.environ[\"IMAGEIO_FFMPEG_EXE\"] = \"/opt/homebrew/Cellar/ffmpeg/5.1/bin/ffmpeg\""
   ]
  },
  {
   "cell_type": "code",
   "execution_count": 6,
   "metadata": {},
   "outputs": [
    {
     "name": "stdout",
     "output_type": "stream",
     "text": [
      "Moviepy - Running:\n",
      ">>> \"+ \" \".join(cmd)\n"
     ]
    },
    {
     "ename": "FileNotFoundError",
     "evalue": "[Errno 2] No such file or directory: '/opt/homebrew/Cellar/ffmpeg/5.1/bin/ffmpeg'",
     "output_type": "error",
     "traceback": [
      "\u001b[0;31m---------------------------------------------------------------------------\u001b[0m",
      "\u001b[0;31mFileNotFoundError\u001b[0m                         Traceback (most recent call last)",
      "\u001b[1;32m/Users/monica_air/Documents/CCTV/motion_detector.ipynb 셀 15\u001b[0m in \u001b[0;36m<cell line: 4>\u001b[0;34m()\u001b[0m\n\u001b[1;32m      <a href='vscode-notebook-cell:/Users/monica_air/Documents/CCTV/motion_detector.ipynb#X11sZmlsZQ%3D%3D?line=1'>2</a>\u001b[0m \u001b[39mfrom\u001b[39;00m \u001b[39mmoviepy\u001b[39;00m\u001b[39m.\u001b[39;00m\u001b[39mvideo\u001b[39;00m\u001b[39m.\u001b[39;00m\u001b[39mio\u001b[39;00m\u001b[39m.\u001b[39;00m\u001b[39mffmpeg_tools\u001b[39;00m \u001b[39mimport\u001b[39;00m ffmpeg_extract_subclip\n\u001b[1;32m      <a href='vscode-notebook-cell:/Users/monica_air/Documents/CCTV/motion_detector.ipynb#X11sZmlsZQ%3D%3D?line=2'>3</a>\u001b[0m \u001b[39m# ffmpeg_extract_subclip(\"full.mp4\", start_seconds, end_seconds, targetname=\"cut.mp4\")\u001b[39;00m\n\u001b[0;32m----> <a href='vscode-notebook-cell:/Users/monica_air/Documents/CCTV/motion_detector.ipynb#X11sZmlsZQ%3D%3D?line=3'>4</a>\u001b[0m ffmpeg_extract_subclip(path, \u001b[39mround\u001b[39;49m(\u001b[39m5822\u001b[39;49m\u001b[39m/\u001b[39;49mfps), \u001b[39mround\u001b[39;49m(\u001b[39m8342\u001b[39;49m\u001b[39m/\u001b[39;49mfps), targetname\u001b[39m=\u001b[39;49m\u001b[39m\"\u001b[39;49m\u001b[39mtest_trim.mp4\u001b[39;49m\u001b[39m\"\u001b[39;49m)\n",
      "File \u001b[0;32m~/miniforge3/envs/opencv/lib/python3.10/site-packages/moviepy/video/io/ffmpeg_tools.py:41\u001b[0m, in \u001b[0;36mffmpeg_extract_subclip\u001b[0;34m(filename, t1, t2, targetname)\u001b[0m\n\u001b[1;32m     33\u001b[0m     targetname \u001b[39m=\u001b[39m \u001b[39m\"\u001b[39m\u001b[39m%s\u001b[39;00m\u001b[39mSUB\u001b[39m\u001b[39m%d\u001b[39;00m\u001b[39m_\u001b[39m\u001b[39m%d\u001b[39;00m\u001b[39m.\u001b[39m\u001b[39m%s\u001b[39;00m\u001b[39m\"\u001b[39m \u001b[39m%\u001b[39m (name, T1, T2, ext)\n\u001b[1;32m     35\u001b[0m cmd \u001b[39m=\u001b[39m [get_setting(\u001b[39m\"\u001b[39m\u001b[39mFFMPEG_BINARY\u001b[39m\u001b[39m\"\u001b[39m),\u001b[39m\"\u001b[39m\u001b[39m-y\u001b[39m\u001b[39m\"\u001b[39m,\n\u001b[1;32m     36\u001b[0m        \u001b[39m\"\u001b[39m\u001b[39m-ss\u001b[39m\u001b[39m\"\u001b[39m, \u001b[39m\"\u001b[39m\u001b[39m%0.2f\u001b[39;00m\u001b[39m\"\u001b[39m\u001b[39m%\u001b[39mt1,\n\u001b[1;32m     37\u001b[0m        \u001b[39m\"\u001b[39m\u001b[39m-i\u001b[39m\u001b[39m\"\u001b[39m, filename,\n\u001b[1;32m     38\u001b[0m        \u001b[39m\"\u001b[39m\u001b[39m-t\u001b[39m\u001b[39m\"\u001b[39m, \u001b[39m\"\u001b[39m\u001b[39m%0.2f\u001b[39;00m\u001b[39m\"\u001b[39m\u001b[39m%\u001b[39m(t2\u001b[39m-\u001b[39mt1),\n\u001b[1;32m     39\u001b[0m        \u001b[39m\"\u001b[39m\u001b[39m-map\u001b[39m\u001b[39m\"\u001b[39m, \u001b[39m\"\u001b[39m\u001b[39m0\u001b[39m\u001b[39m\"\u001b[39m, \u001b[39m\"\u001b[39m\u001b[39m-vcodec\u001b[39m\u001b[39m\"\u001b[39m, \u001b[39m\"\u001b[39m\u001b[39mcopy\u001b[39m\u001b[39m\"\u001b[39m, \u001b[39m\"\u001b[39m\u001b[39m-acodec\u001b[39m\u001b[39m\"\u001b[39m, \u001b[39m\"\u001b[39m\u001b[39mcopy\u001b[39m\u001b[39m\"\u001b[39m, targetname]\n\u001b[0;32m---> 41\u001b[0m subprocess_call(cmd)\n",
      "File \u001b[0;32m~/miniforge3/envs/opencv/lib/python3.10/site-packages/moviepy/tools.py:46\u001b[0m, in \u001b[0;36msubprocess_call\u001b[0;34m(cmd, logger, errorprint)\u001b[0m\n\u001b[1;32m     43\u001b[0m \u001b[39mif\u001b[39;00m os\u001b[39m.\u001b[39mname \u001b[39m==\u001b[39m \u001b[39m\"\u001b[39m\u001b[39mnt\u001b[39m\u001b[39m\"\u001b[39m:\n\u001b[1;32m     44\u001b[0m     popen_params[\u001b[39m\"\u001b[39m\u001b[39mcreationflags\u001b[39m\u001b[39m\"\u001b[39m] \u001b[39m=\u001b[39m \u001b[39m0x08000000\u001b[39m\n\u001b[0;32m---> 46\u001b[0m proc \u001b[39m=\u001b[39m sp\u001b[39m.\u001b[39;49mPopen(cmd, \u001b[39m*\u001b[39;49m\u001b[39m*\u001b[39;49mpopen_params)\n\u001b[1;32m     48\u001b[0m out, err \u001b[39m=\u001b[39m proc\u001b[39m.\u001b[39mcommunicate() \u001b[39m# proc.wait()\u001b[39;00m\n\u001b[1;32m     49\u001b[0m proc\u001b[39m.\u001b[39mstderr\u001b[39m.\u001b[39mclose()\n",
      "File \u001b[0;32m~/miniforge3/envs/opencv/lib/python3.10/subprocess.py:966\u001b[0m, in \u001b[0;36mPopen.__init__\u001b[0;34m(self, args, bufsize, executable, stdin, stdout, stderr, preexec_fn, close_fds, shell, cwd, env, universal_newlines, startupinfo, creationflags, restore_signals, start_new_session, pass_fds, user, group, extra_groups, encoding, errors, text, umask, pipesize)\u001b[0m\n\u001b[1;32m    962\u001b[0m         \u001b[39mif\u001b[39;00m \u001b[39mself\u001b[39m\u001b[39m.\u001b[39mtext_mode:\n\u001b[1;32m    963\u001b[0m             \u001b[39mself\u001b[39m\u001b[39m.\u001b[39mstderr \u001b[39m=\u001b[39m io\u001b[39m.\u001b[39mTextIOWrapper(\u001b[39mself\u001b[39m\u001b[39m.\u001b[39mstderr,\n\u001b[1;32m    964\u001b[0m                     encoding\u001b[39m=\u001b[39mencoding, errors\u001b[39m=\u001b[39merrors)\n\u001b[0;32m--> 966\u001b[0m     \u001b[39mself\u001b[39;49m\u001b[39m.\u001b[39;49m_execute_child(args, executable, preexec_fn, close_fds,\n\u001b[1;32m    967\u001b[0m                         pass_fds, cwd, env,\n\u001b[1;32m    968\u001b[0m                         startupinfo, creationflags, shell,\n\u001b[1;32m    969\u001b[0m                         p2cread, p2cwrite,\n\u001b[1;32m    970\u001b[0m                         c2pread, c2pwrite,\n\u001b[1;32m    971\u001b[0m                         errread, errwrite,\n\u001b[1;32m    972\u001b[0m                         restore_signals,\n\u001b[1;32m    973\u001b[0m                         gid, gids, uid, umask,\n\u001b[1;32m    974\u001b[0m                         start_new_session)\n\u001b[1;32m    975\u001b[0m \u001b[39mexcept\u001b[39;00m:\n\u001b[1;32m    976\u001b[0m     \u001b[39m# Cleanup if the child failed starting.\u001b[39;00m\n\u001b[1;32m    977\u001b[0m     \u001b[39mfor\u001b[39;00m f \u001b[39min\u001b[39;00m \u001b[39mfilter\u001b[39m(\u001b[39mNone\u001b[39;00m, (\u001b[39mself\u001b[39m\u001b[39m.\u001b[39mstdin, \u001b[39mself\u001b[39m\u001b[39m.\u001b[39mstdout, \u001b[39mself\u001b[39m\u001b[39m.\u001b[39mstderr)):\n",
      "File \u001b[0;32m~/miniforge3/envs/opencv/lib/python3.10/subprocess.py:1842\u001b[0m, in \u001b[0;36mPopen._execute_child\u001b[0;34m(self, args, executable, preexec_fn, close_fds, pass_fds, cwd, env, startupinfo, creationflags, shell, p2cread, p2cwrite, c2pread, c2pwrite, errread, errwrite, restore_signals, gid, gids, uid, umask, start_new_session)\u001b[0m\n\u001b[1;32m   1840\u001b[0m     \u001b[39mif\u001b[39;00m errno_num \u001b[39m!=\u001b[39m \u001b[39m0\u001b[39m:\n\u001b[1;32m   1841\u001b[0m         err_msg \u001b[39m=\u001b[39m os\u001b[39m.\u001b[39mstrerror(errno_num)\n\u001b[0;32m-> 1842\u001b[0m     \u001b[39mraise\u001b[39;00m child_exception_type(errno_num, err_msg, err_filename)\n\u001b[1;32m   1843\u001b[0m \u001b[39mraise\u001b[39;00m child_exception_type(err_msg)\n",
      "\u001b[0;31mFileNotFoundError\u001b[0m: [Errno 2] No such file or directory: '/opt/homebrew/Cellar/ffmpeg/5.1/bin/ffmpeg'"
     ]
    }
   ],
   "source": [
    "path = '/Users/monica_air/Documents/CCTV/C045100_001.mp4'\n",
    "from moviepy.video.io.ffmpeg_tools import ffmpeg_extract_subclip\n",
    "# ffmpeg_extract_subclip(\"full.mp4\", start_seconds, end_seconds, targetname=\"cut.mp4\")\n",
    "ffmpeg_extract_subclip(path, round(5822/fps), round(8342/fps), targetname=\"test_trim.mp4\")"
   ]
  },
  {
   "cell_type": "code",
   "execution_count": null,
   "metadata": {},
   "outputs": [],
   "source": []
  },
  {
   "cell_type": "code",
   "execution_count": null,
   "metadata": {},
   "outputs": [],
   "source": []
  },
  {
   "cell_type": "code",
   "execution_count": null,
   "metadata": {},
   "outputs": [],
   "source": [
    "path = '/Users/monica_air/Documents/CCTV/C045100_001.mp4'\n",
    "cap, width, height, fps, fourcc, filename, out = vid_info(path, 'XVID','0903_test')\n",
    "print(fps)\n",
    "if not cap.isOpened():\n",
    "    print('Video open failed!')\n",
    "    sys.exit()\n",
    "\n",
    "# 배경 영상 등록\n",
    "ret, back = cap.read()\n",
    "\n",
    "if not ret:\n",
    "    print('Background image registration failed!')\n",
    "    sys.exit()\n",
    "    \n",
    "# 연산 속도를 높이기 위해 그레이스케일 영상으로 변환\n",
    "back = cv2.cvtColor(back, cv2.COLOR_BGR2GRAY)\n",
    "\n",
    "# 가우시안 블러로 노이즈 제거 (모폴로지, 열기, 닫기 연산도 가능)\n",
    "back = cv2.GaussianBlur(back, (0, 0), 1.0)\n",
    "frame_num = []\n",
    "z=0\n",
    "# 비디오 매 프레임 처리\n",
    "while True:\n",
    "    ret, frame = cap.read()\n",
    "    z+=1\n",
    "    if not ret:\n",
    "        break"
   ]
  },
  {
   "cell_type": "code",
   "execution_count": null,
   "metadata": {},
   "outputs": [],
   "source": []
  },
  {
   "cell_type": "code",
   "execution_count": null,
   "metadata": {},
   "outputs": [],
   "source": []
  },
  {
   "cell_type": "code",
   "execution_count": null,
   "metadata": {},
   "outputs": [],
   "source": []
  },
  {
   "cell_type": "code",
   "execution_count": null,
   "metadata": {},
   "outputs": [],
   "source": []
  },
  {
   "cell_type": "code",
   "execution_count": null,
   "metadata": {},
   "outputs": [],
   "source": []
  },
  {
   "cell_type": "code",
   "execution_count": 6,
   "metadata": {},
   "outputs": [
    {
     "name": "stdout",
     "output_type": "stream",
     "text": [
      "/Users/monica_air/Documents/CCTV/1. 해외환경(1500개)/1. 배회(325개)\n"
     ]
    }
   ],
   "source": [
    "%cd /Users/monica_air/Documents/CCTV/1. 해외환경(1500개)/1. 배회(325개)"
   ]
  },
  {
   "cell_type": "code",
   "execution_count": 29,
   "metadata": {},
   "outputs": [],
   "source": [
    "def count_img(path):\n",
    "    data_path = os.path.join(path, '*mp4')\n",
    "    files= glob.glob(data_path)\n",
    "    img_list=[]\n",
    "    for f1 in files:\n",
    "        img = cv2.imread(f1)\n",
    "        img_list.append(img)\n",
    "    print('이미지수',len(img_list))\n",
    "    return img_list"
   ]
  },
  {
   "cell_type": "code",
   "execution_count": 30,
   "metadata": {},
   "outputs": [],
   "source": []
  },
  {
   "cell_type": "code",
   "execution_count": 36,
   "metadata": {},
   "outputs": [
    {
     "name": "stdout",
     "output_type": "stream",
     "text": [
      "/Users/monica_air/Documents/CCTV/trimed\n"
     ]
    }
   ],
   "source": [
    "%cd /Users/monica_air/Documents/CCTV/trimed"
   ]
  },
  {
   "cell_type": "code",
   "execution_count": 46,
   "metadata": {},
   "outputs": [
    {
     "data": {
      "text/plain": [
       "400"
      ]
     },
     "execution_count": 46,
     "metadata": {},
     "output_type": "execute_result"
    }
   ],
   "source": [
    "folder_path = '/Users/monica_air/Documents/CCTV/1. 해외환경(1500개)/3. 유기(400개)'\n",
    "\n",
    "list_ = os.listdir(folder_path)\n",
    "file_list=[]\n",
    "for i in list_:\n",
    "    if '.mp4'in i:\n",
    "        file_list.append(i)\n",
    "        \n",
    "len(file_list)"
   ]
  },
  {
   "cell_type": "code",
   "execution_count": 6,
   "metadata": {},
   "outputs": [
    {
     "data": {
      "text/html": [
       "<div>\n",
       "<style scoped>\n",
       "    .dataframe tbody tr th:only-of-type {\n",
       "        vertical-align: middle;\n",
       "    }\n",
       "\n",
       "    .dataframe tbody tr th {\n",
       "        vertical-align: top;\n",
       "    }\n",
       "\n",
       "    .dataframe thead th {\n",
       "        text-align: right;\n",
       "    }\n",
       "</style>\n",
       "<table border=\"1\" class=\"dataframe\">\n",
       "  <thead>\n",
       "    <tr style=\"text-align: right;\">\n",
       "      <th></th>\n",
       "      <th>file_name</th>\n",
       "      <th>start</th>\n",
       "      <th>end</th>\n",
       "    </tr>\n",
       "  </thead>\n",
       "  <tbody>\n",
       "    <tr>\n",
       "      <th>0</th>\n",
       "      <td>C056300_016.mp4</td>\n",
       "      <td>5704</td>\n",
       "      <td>8856</td>\n",
       "    </tr>\n",
       "    <tr>\n",
       "      <th>1</th>\n",
       "      <td>C056300_016.mp4</td>\n",
       "      <td>5761</td>\n",
       "      <td>8846</td>\n",
       "    </tr>\n",
       "    <tr>\n",
       "      <th>2</th>\n",
       "      <td>C056300_016.mp4</td>\n",
       "      <td>6228</td>\n",
       "      <td>7432</td>\n",
       "    </tr>\n",
       "    <tr>\n",
       "      <th>3</th>\n",
       "      <td>C056300_016.mp4</td>\n",
       "      <td>5808</td>\n",
       "      <td>8356</td>\n",
       "    </tr>\n",
       "    <tr>\n",
       "      <th>4</th>\n",
       "      <td>C051200_007.mp4</td>\n",
       "      <td>972</td>\n",
       "      <td>14729</td>\n",
       "    </tr>\n",
       "    <tr>\n",
       "      <th>...</th>\n",
       "      <td>...</td>\n",
       "      <td>...</td>\n",
       "      <td>...</td>\n",
       "    </tr>\n",
       "    <tr>\n",
       "      <th>317</th>\n",
       "      <td>C051200_007.mp4</td>\n",
       "      <td>43</td>\n",
       "      <td>14219</td>\n",
       "    </tr>\n",
       "    <tr>\n",
       "      <th>318</th>\n",
       "      <td>C045200_001.mp4</td>\n",
       "      <td>2468</td>\n",
       "      <td>13611</td>\n",
       "    </tr>\n",
       "    <tr>\n",
       "      <th>319</th>\n",
       "      <td>C056300_016.mp4</td>\n",
       "      <td>6095</td>\n",
       "      <td>7850</td>\n",
       "    </tr>\n",
       "    <tr>\n",
       "      <th>320</th>\n",
       "      <td>C056300_016.mp4</td>\n",
       "      <td>5989</td>\n",
       "      <td>8369</td>\n",
       "    </tr>\n",
       "    <tr>\n",
       "      <th>321</th>\n",
       "      <td>C049100_012.mp4</td>\n",
       "      <td>517</td>\n",
       "      <td>13721</td>\n",
       "    </tr>\n",
       "  </tbody>\n",
       "</table>\n",
       "<p>322 rows × 3 columns</p>\n",
       "</div>"
      ],
      "text/plain": [
       "           file_name  start    end\n",
       "0    C056300_016.mp4   5704   8856\n",
       "1    C056300_016.mp4   5761   8846\n",
       "2    C056300_016.mp4   6228   7432\n",
       "3    C056300_016.mp4   5808   8356\n",
       "4    C051200_007.mp4    972  14729\n",
       "..               ...    ...    ...\n",
       "317  C051200_007.mp4     43  14219\n",
       "318  C045200_001.mp4   2468  13611\n",
       "319  C056300_016.mp4   6095   7850\n",
       "320  C056300_016.mp4   5989   8369\n",
       "321  C049100_012.mp4    517  13721\n",
       "\n",
       "[322 rows x 3 columns]"
      ]
     },
     "execution_count": 6,
     "metadata": {},
     "output_type": "execute_result"
    }
   ],
   "source": [
    "data = pd.read_csv('/Users/monica_air/Documents/CCTV/1. 해외환경\\(1500개\\).csv', index_col=0)\n",
    "data"
   ]
  },
  {
   "cell_type": "code",
   "execution_count": 44,
   "metadata": {},
   "outputs": [
    {
     "name": "stderr",
     "output_type": "stream",
     "text": [
      "/var/folders/kx/wntkz3hj61bd2_ss_s_4d1km0000gn/T/ipykernel_88594/1918089615.py:2: SettingWithCopyWarning: \n",
      "A value is trying to be set on a copy of a slice from a DataFrame.\n",
      "Try using .loc[row_indexer,col_indexer] = value instead\n",
      "\n",
      "See the caveats in the documentation: https://pandas.pydata.org/pandas-docs/stable/user_guide/indexing.html#returning-a-view-versus-a-copy\n",
      "  data_v1['file_name']=file_list[76:]\n"
     ]
    },
    {
     "data": {
      "text/html": [
       "<div>\n",
       "<style scoped>\n",
       "    .dataframe tbody tr th:only-of-type {\n",
       "        vertical-align: middle;\n",
       "    }\n",
       "\n",
       "    .dataframe tbody tr th {\n",
       "        vertical-align: top;\n",
       "    }\n",
       "\n",
       "    .dataframe thead th {\n",
       "        text-align: right;\n",
       "    }\n",
       "</style>\n",
       "<table border=\"1\" class=\"dataframe\">\n",
       "  <thead>\n",
       "    <tr style=\"text-align: right;\">\n",
       "      <th></th>\n",
       "      <th>file_name</th>\n",
       "      <th>start</th>\n",
       "      <th>end</th>\n",
       "    </tr>\n",
       "  </thead>\n",
       "  <tbody>\n",
       "    <tr>\n",
       "      <th>73</th>\n",
       "      <td>C056300_006.mp4</td>\n",
       "      <td>5744</td>\n",
       "      <td>12709</td>\n",
       "    </tr>\n",
       "    <tr>\n",
       "      <th>74</th>\n",
       "      <td>C047300_004.mp4</td>\n",
       "      <td>5713</td>\n",
       "      <td>8855</td>\n",
       "    </tr>\n",
       "    <tr>\n",
       "      <th>75</th>\n",
       "      <td>C052300_008.mp4</td>\n",
       "      <td>4302</td>\n",
       "      <td>9748</td>\n",
       "    </tr>\n",
       "    <tr>\n",
       "      <th>76</th>\n",
       "      <td>C051300_006.mp4</td>\n",
       "      <td>5821</td>\n",
       "      <td>8516</td>\n",
       "    </tr>\n",
       "    <tr>\n",
       "      <th>77</th>\n",
       "      <td>C058100_007.mp4</td>\n",
       "      <td>498</td>\n",
       "      <td>7805</td>\n",
       "    </tr>\n",
       "    <tr>\n",
       "      <th>...</th>\n",
       "      <td>...</td>\n",
       "      <td>...</td>\n",
       "      <td>...</td>\n",
       "    </tr>\n",
       "    <tr>\n",
       "      <th>317</th>\n",
       "      <td>C055300_001.mp4</td>\n",
       "      <td>43</td>\n",
       "      <td>14219</td>\n",
       "    </tr>\n",
       "    <tr>\n",
       "      <th>318</th>\n",
       "      <td>C054100_006.mp4</td>\n",
       "      <td>2468</td>\n",
       "      <td>13611</td>\n",
       "    </tr>\n",
       "    <tr>\n",
       "      <th>319</th>\n",
       "      <td>C045100_004.mp4</td>\n",
       "      <td>6095</td>\n",
       "      <td>7850</td>\n",
       "    </tr>\n",
       "    <tr>\n",
       "      <th>320</th>\n",
       "      <td>C045100_010.mp4</td>\n",
       "      <td>5989</td>\n",
       "      <td>8369</td>\n",
       "    </tr>\n",
       "    <tr>\n",
       "      <th>321</th>\n",
       "      <td>C054100_012.mp4</td>\n",
       "      <td>517</td>\n",
       "      <td>13721</td>\n",
       "    </tr>\n",
       "  </tbody>\n",
       "</table>\n",
       "<p>249 rows × 3 columns</p>\n",
       "</div>"
      ],
      "text/plain": [
       "           file_name  start    end\n",
       "73   C056300_006.mp4   5744  12709\n",
       "74   C047300_004.mp4   5713   8855\n",
       "75   C052300_008.mp4   4302   9748\n",
       "76   C051300_006.mp4   5821   8516\n",
       "77   C058100_007.mp4    498   7805\n",
       "..               ...    ...    ...\n",
       "317  C055300_001.mp4     43  14219\n",
       "318  C054100_006.mp4   2468  13611\n",
       "319  C045100_004.mp4   6095   7850\n",
       "320  C045100_010.mp4   5989   8369\n",
       "321  C054100_012.mp4    517  13721\n",
       "\n",
       "[249 rows x 3 columns]"
      ]
     },
     "execution_count": 44,
     "metadata": {},
     "output_type": "execute_result"
    }
   ],
   "source": [
    "data_v1 = data[73:]\n",
    "data_v1['file_name']=file_list[76:]\n",
    "data_v1"
   ]
  },
  {
   "cell_type": "code",
   "execution_count": 52,
   "metadata": {},
   "outputs": [
    {
     "name": "stdout",
     "output_type": "stream",
     "text": [
      "Moviepy - Running:\n",
      ">>> \"+ \" \".join(cmd)\n",
      "Moviepy - Command successful\n",
      "Moviepy - Running:\n",
      ">>> \"+ \" \".join(cmd)\n",
      "Moviepy - Command successful\n",
      "Moviepy - Running:\n",
      ">>> \"+ \" \".join(cmd)\n",
      "Moviepy - Command successful\n"
     ]
    }
   ],
   "source": [
    "from tqdm import tqdm\n",
    "from moviepy.video.io.ffmpeg_tools import ffmpeg_extract_subclip\n",
    "\n",
    "folder_path = '/Users/monica_air/Documents/CCTV/1. 해외환경(1500개)/3. 유기(400개)/'\n",
    "\n",
    "for i in file_list:\n",
    "    # print(i)\n",
    "    path = folder_path+i\n",
    "    # start = round(data['start'][num]/30)\n",
    "    # end = round(data['end'][num]/30)\n",
    "    \n",
    "    ffmpeg_extract_subclip(path, 180, 215, targetname= f\"/Users/monica_air/Documents/CCTV/trimed/3.유기/trim_{i}\")\n",
    "    "
   ]
  },
  {
   "cell_type": "code",
   "execution_count": null,
   "metadata": {},
   "outputs": [],
   "source": [
    "\n",
    "from moviepy.video.io.ffmpeg_tools import ffmpeg_extract_subclip\n",
    "# ffmpeg_extract_subclip(\"full.mp4\", start_seconds, end_seconds, targetname=\"cut.mp4\")\n",
    "ffmpeg_extract_subclip(path, round(5822/fps), round(8342/fps), targetname=\"test_trim.mp4\")"
   ]
  }
 ],
 "metadata": {
  "kernelspec": {
   "display_name": "Python 3.10.4 ('opencv')",
   "language": "python",
   "name": "python3"
  },
  "language_info": {
   "codemirror_mode": {
    "name": "ipython",
    "version": 3
   },
   "file_extension": ".py",
   "mimetype": "text/x-python",
   "name": "python",
   "nbconvert_exporter": "python",
   "pygments_lexer": "ipython3",
   "version": "3.10.4"
  },
  "orig_nbformat": 4,
  "vscode": {
   "interpreter": {
    "hash": "61672f77206809fec314017aaa73b35c0651c21d6cbaf5255b219c2602b58169"
   }
  }
 },
 "nbformat": 4,
 "nbformat_minor": 2
}
