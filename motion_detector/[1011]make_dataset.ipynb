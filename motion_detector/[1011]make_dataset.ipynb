{
 "cells": [
  {
   "cell_type": "code",
   "execution_count": 1,
   "metadata": {},
   "outputs": [
    {
     "name": "stdout",
     "output_type": "stream",
     "text": [
      "/Users/kimmonica/Documents/GitHub/py_storage\n",
      "[name: \"/device:CPU:0\"\n",
      "device_type: \"CPU\"\n",
      "memory_limit: 268435456\n",
      "locality {\n",
      "}\n",
      "incarnation: 589018800395885397\n",
      "xla_global_id: -1\n",
      ", name: \"/device:GPU:0\"\n",
      "device_type: \"GPU\"\n",
      "locality {\n",
      "  bus_id: 1\n",
      "}\n",
      "incarnation: 2966340257369758456\n",
      "physical_device_desc: \"device: 0, name: METAL, pci bus id: <undefined>\"\n",
      "xla_global_id: -1\n",
      "]Metal device set to: Apple M1 Max\n",
      "\n",
      "systemMemory: 32.00 GB\n",
      "maxCacheSize: 10.67 GB\n",
      "\n",
      "\n",
      "tf 2.9.2\n",
      "keras 2.9.0\n",
      "set_global_determinism(seed=1337) 이거 꼭 해라\n",
      "set_global_determinism(seed=1337) 이거 꼭 해라\n",
      "set_global_determinism(seed=1337) 이거 꼭 해라\n",
      "/Users/kimmonica/Documents/Smart_CCTV/motion_detector\n"
     ]
    },
    {
     "name": "stderr",
     "output_type": "stream",
     "text": [
      "2022-10-12 21:36:45.401104: I tensorflow/core/common_runtime/pluggable_device/pluggable_device_factory.cc:305] Could not identify NUMA node of platform GPU ID 0, defaulting to 0. Your kernel may not have been built with NUMA support.\n",
      "2022-10-12 21:36:45.401227: I tensorflow/core/common_runtime/pluggable_device/pluggable_device_factory.cc:271] Created TensorFlow device (/device:GPU:0 with 0 MB memory) -> physical PluggableDevice (device: 0, name: METAL, pci bus id: <undefined>)\n"
     ]
    }
   ],
   "source": [
    "%cd /Users/kimmonica/Documents/GitHub/py_storage\n",
    "from basic_preprocessing import *\n",
    "from deeplearning_check import *\n",
    "from machine_learning import *\n",
    "from FINAL_IMG_PREP import *\n",
    "from video_info import *\n",
    "\n",
    "gpu_check()\n",
    "set_global_determinism(seed=SEED)\n",
    "\n",
    "%cd /Users/kimmonica/Documents/Smart_CCTV/motion_detector"
   ]
  },
  {
   "cell_type": "code",
   "execution_count": 2,
   "metadata": {},
   "outputs": [
    {
     "name": "stderr",
     "output_type": "stream",
     "text": [
      "2022-10-12 21:36:49.508563: I tensorflow/core/common_runtime/pluggable_device/pluggable_device_factory.cc:305] Could not identify NUMA node of platform GPU ID 0, defaulting to 0. Your kernel may not have been built with NUMA support.\n",
      "2022-10-12 21:36:49.508585: I tensorflow/core/common_runtime/pluggable_device/pluggable_device_factory.cc:271] Created TensorFlow device (/job:localhost/replica:0/task:0/device:GPU:0 with 0 MB memory) -> physical PluggableDevice (device: 0, name: METAL, pci bus id: <undefined>)\n"
     ]
    }
   ],
   "source": [
    "# import tensorflow as tf\n",
    "import tensorflow_hub as hub\n",
    "\n",
    "# Optional if you are using a GPU\n",
    "gpus = tf.config.experimental.list_physical_devices('GPU')\n",
    "for gpu in gpus:\n",
    "    tf.config.experimental.set_memory_growth(gpu, True)\n",
    "\n",
    "model =hub.load('https://tfhub.dev/google/movenet/multipose/lightning/1')\n",
    "movenet = model.signatures['serving_default']"
   ]
  },
  {
   "cell_type": "code",
   "execution_count": 3,
   "metadata": {},
   "outputs": [],
   "source": [
    "EDGES = {\n",
    "    (0, 1): 'm',\n",
    "    (0, 2): 'c',\n",
    "    (1, 3): 'm',\n",
    "    (2, 4): 'c',\n",
    "    (0, 5): 'm',\n",
    "    (0, 6): 'c',\n",
    "    (5, 7): 'm',\n",
    "    (7, 9): 'm',\n",
    "    (6, 8): 'c',\n",
    "    (8, 10): 'c',\n",
    "    (5, 6): 'y',\n",
    "    (5, 11): 'm',\n",
    "    (6, 12): 'c',\n",
    "    (11, 12): 'y',\n",
    "    (11, 13): 'm',\n",
    "    (13, 15): 'm',\n",
    "    (12, 14): 'c',\n",
    "    (14, 16): 'c'\n",
    "}\n",
    "\n",
    "def draw_keypoints(frame, keypoints, confidence_threshold):\n",
    "    y, x, c = frame.shape\n",
    "    shaped = np.squeeze(np.multiply(keypoints, [y,x,1]))\n",
    "    \n",
    "    for kp in shaped:\n",
    "        ky, kx, kp_conf = kp\n",
    "        if kp_conf > confidence_threshold:\n",
    "            cv2.circle(frame, (int(kx), int(ky)), 6, (0,255,0), -1)\n",
    "            \n",
    "def draw_connections(frame, keypoints, edges, confidence_threshold):\n",
    "    y, x, c = frame.shape\n",
    "    shaped = np.squeeze(np.multiply(keypoints, [y,x,1]))\n",
    "    \n",
    "    for edge, color in edges.items():\n",
    "        p1, p2 = edge\n",
    "        y1, x1, c1 = shaped[p1]\n",
    "        y2, x2, c2 = shaped[p2]\n",
    "        \n",
    "        if (c1 > confidence_threshold) & (c2 > confidence_threshold):      \n",
    "            cv2.line(frame, (int(x1), int(y1)), (int(x2), int(y2)), (0,255,0), 2)\n",
    "            \n",
    "#function to loop through each person detected and render\n",
    "\n",
    "def loop_through_people(frame, keypoints_with_scores, edges, confidence_threshold):\n",
    "    for person in keypoints_with_scores:\n",
    "        draw_connections(frame, person, edges, confidence_threshold)\n",
    "        draw_keypoints(frame, person, confidence_threshold)\n"
   ]
  },
  {
   "cell_type": "code",
   "execution_count": 4,
   "metadata": {},
   "outputs": [
    {
     "data": {
      "text/plain": [
       "['trim_C052303_006.mp4', 'trim_C052303_012.mp4', 'trim_C058203_001.mp4']"
      ]
     },
     "execution_count": 4,
     "metadata": {},
     "output_type": "execute_result"
    }
   ],
   "source": [
    "folder_path = '/Users/kimmonica/Documents/Smart_CCTV/dataset/4.쓰러짐/'\n",
    "\n",
    "list_ = os.listdir(folder_path)\n",
    "file_list=[]\n",
    "for i in list_:\n",
    "    if '.mp4'in i:\n",
    "        file_list.append(i)\n",
    "       \n",
    "file_list[:3]"
   ]
  },
  {
   "cell_type": "markdown",
   "metadata": {},
   "source": [
    "### read vid"
   ]
  },
  {
   "cell_type": "code",
   "execution_count": 10,
   "metadata": {},
   "outputs": [
    {
     "name": "stdout",
     "output_type": "stream",
     "text": [
      "< cv2.VideoCapture 0x2d0d8f5b0>\n",
      "cap < cv2.VideoCapture 0x2d0d8f5b0>, width 1280.0, height 720.0, fps 30.000068337285505\n",
      "codec {0} filename 1011_test.mp4\n"
     ]
    },
    {
     "name": "stderr",
     "output_type": "stream",
     "text": [
      "OpenCV: FFMPEG: tag 0x44495658/'XVID' is not supported with codec id 12 and format 'mp4 / MP4 (MPEG-4 Part 14)'\n",
      "OpenCV: FFMPEG: fallback to use tag 0x7634706d/'mp4v'\n"
     ]
    }
   ],
   "source": [
    "path = '/Users/kimmonica/Documents/Smart_CCTV/dataset/test.mp4'\n",
    "cap, width, height, fps, fourcc, filename, out = vid_info(path, 'XVID','1011_test')"
   ]
  },
  {
   "cell_type": "code",
   "execution_count": 16,
   "metadata": {},
   "outputs": [
    {
     "name": "stderr",
     "output_type": "stream",
     "text": [
      "OpenCV: FFMPEG: tag 0x44495658/'XVID' is not supported with codec id 12 and format 'mp4 / MP4 (MPEG-4 Part 14)'\n",
      "OpenCV: FFMPEG: fallback to use tag 0x7634706d/'mp4v'\n"
     ]
    },
    {
     "data": {
      "text/plain": [
       "-1"
      ]
     },
     "execution_count": 16,
     "metadata": {},
     "output_type": "execute_result"
    }
   ],
   "source": [
    "path = '/Users/kimmonica/Documents/Smart_CCTV/dataset/test.mp4'\n",
    "\n",
    "cap = cv2.VideoCapture(path)\n",
    "\n",
    "fourcc = cv.VideoWriter_fourcc(*'XVID')\n",
    "out = cv.VideoWriter('test_key.mp4', fourcc, 30, (600, 300))\n",
    "\n",
    "if not cap.isOpened():\n",
    "    print('Video open failed!')\n",
    "    sys.exit()\n",
    "\n",
    "ret, org_frame = cap.read()\n",
    "if not ret:\n",
    "    print('Background image registration failed!')\n",
    "    sys.exit()\n",
    "\n",
    "while True:\n",
    "    blank_img = np.zeros((600, 300, 3), np.uint8)\n",
    "    # show(blank_img)\n",
    "    ret, org_frame = cap.read()\n",
    "    \n",
    "    if not ret:\n",
    "        break\n",
    "    ####### keypoint ######\n",
    "    frame = org_frame.copy()\n",
    "    frame = cv2.cvtColor(frame, cv2.COLOR_BGR2RGB)\n",
    "    # show(frame)\n",
    "    img = org_frame.copy()\n",
    "    img = cv2.cvtColor(img, cv2.COLOR_BGR2RGB)\n",
    "\n",
    "    confidence_threshold = 0.3\n",
    "    y, x, c = frame.shape\n",
    "                # show(img)\n",
    "                ## 사이즈 모델이 32의 배수여야하고 256pixel이상이여야함\n",
    "                ### ratio 따라서 reshape해야함 \n",
    "    img = tf.image.resize_with_pad(tf.expand_dims(img, axis=0), 352,608)\n",
    "    input_img = tf.cast(img, dtype=tf.int32)\n",
    "            #\n",
    "                # Detection section\n",
    "    results = movenet(input_img)\n",
    "\n",
    "                #rendering\n",
    "    keypoints_with_scores = results['output_0'].numpy()[:,:,:51].reshape((6,17,3))\n",
    "\n",
    "    # print(len(keypoints_with_scores))\n",
    "    for i in keypoints_with_scores:\n",
    "        shaped = np.squeeze(np.multiply(i, [y,x,1]))\n",
    "        ky_list = []\n",
    "        kx_list = []\n",
    "        result_list = []\n",
    "        for kp in shaped: ## 사람 머리부터 다 나옴 \n",
    "            ky, kx, kp_conf = kp\n",
    "            # print(len(kp))\n",
    "            if kp_conf > confidence_threshold:\n",
    "                ky_list.append(int(ky))\n",
    "                kx_list.append(int(kx))\n",
    "                loop_through_people(blank_img, keypoints_with_scores, EDGES, 0.3)\n",
    "    cv2.imshow('frame',blank_img)\n",
    "    out.write(blank_img)\n",
    "                # draw_img = frame.copy()\n",
    "                # # print(draw_img.shape)\n",
    "                # draw_img = cv2.rectangle(draw_img,((min(kx_list)-50, min(ky_list)-70)), (((max(kx_list)+70, max(ky_list)+70))), (255,255,0),3 )\n",
    "            \n",
    "        # try:\n",
    "        #     trim_org = blank_img.copy()\n",
    "        #     trim=trim_org[min(ky_list)-50:max(ky_list)+70,min(kx_list)-50:max(kx_list)+70 ]\n",
    "        #     trim = cv2.cvtColor(trim, cv2.COLOR_BGR2GRAY)\n",
    "        #     trim = cv2.cvtColor(trim, cv2.COLOR_GRAY2RGB)\n",
    "        #     trim = cv2.resize(trim,(230,600))\n",
    "        #     show(trim)\n",
    "        #     # cv2.imshow('frame', trim)\n",
    "        # except:\n",
    "        #     pass        \n",
    "\n",
    "\n",
    "    if cv2.waitKey(30) == 27:\n",
    "            break\n",
    "\n",
    "\n",
    "cap.release()\n",
    "out.release()\n",
    "cv2.destroyAllWindows()\n",
    "cv2.waitKey(1)\n",
    "cv2.waitKey(1)\n",
    "cv2.waitKey(1)\n",
    "cv2.waitKey(1)\n"
   ]
  },
  {
   "cell_type": "code",
   "execution_count": 6,
   "metadata": {},
   "outputs": [
    {
     "data": {
      "text/plain": [
       "'/Users/kimmonica/Documents/Smart_CCTV/motion_detector'"
      ]
     },
     "execution_count": 6,
     "metadata": {},
     "output_type": "execute_result"
    }
   ],
   "source": [
    "/pwd"
   ]
  },
  {
   "cell_type": "code",
   "execution_count": null,
   "metadata": {},
   "outputs": [],
   "source": []
  }
 ],
 "metadata": {
  "kernelspec": {
   "display_name": "Python 3.9.13 ('tensorflow')",
   "language": "python",
   "name": "python3"
  },
  "language_info": {
   "codemirror_mode": {
    "name": "ipython",
    "version": 3
   },
   "file_extension": ".py",
   "mimetype": "text/x-python",
   "name": "python",
   "nbconvert_exporter": "python",
   "pygments_lexer": "ipython3",
   "version": "3.9.13"
  },
  "orig_nbformat": 4,
  "vscode": {
   "interpreter": {
    "hash": "9df977a7244e09ba52d6fe32a503ae86d5cb00ab234ef9bc3f093fdef1b38003"
   }
  }
 },
 "nbformat": 4,
 "nbformat_minor": 2
}
