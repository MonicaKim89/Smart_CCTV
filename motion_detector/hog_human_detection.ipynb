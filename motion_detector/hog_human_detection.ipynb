{
 "cells": [
  {
   "cell_type": "code",
   "execution_count": 1,
   "metadata": {},
   "outputs": [
    {
     "name": "stdout",
     "output_type": "stream",
     "text": [
      "/Users/monica_air/Documents/GitHub/Sign_recognition/py\n",
      "[name: \"/device:CPU:0\"\n",
      "device_type: \"CPU\"\n",
      "memory_limit: 268435456\n",
      "locality {\n",
      "}\n",
      "incarnation: 4627881680008827605\n",
      "xla_global_id: -1\n",
      "]\n",
      "tf 2.9.2\n",
      "keras 2.9.0\n",
      "set_global_determinism(seed=1337) 이거 꼭 해라\n",
      "set_global_determinism(seed=1337) 이거 꼭 해라\n",
      "set_global_determinism(seed=1337) 이거 꼭 해라\n",
      "/Users/monica_air/Documents/CCTV/key_point\n"
     ]
    }
   ],
   "source": [
    "%cd /Users/monica_air/Documents/GitHub/Sign_recognition/py\n",
    "from basic_preprocessing import *\n",
    "from deeplearning_check import *\n",
    "from machine_learning import *\n",
    "\n",
    "\n",
    "gpu_check()\n",
    "set_global_determinism(seed=SEED)\n",
    "\n",
    "%cd /Users/monica_air/Documents/CCTV/key_point"
   ]
  },
  {
   "cell_type": "code",
   "execution_count": 2,
   "metadata": {},
   "outputs": [],
   "source": [
    "path = '/Users/monica_air/Documents/CCTV/test_dataset/falling.mp4'"
   ]
  },
  {
   "cell_type": "code",
   "execution_count": 10,
   "metadata": {},
   "outputs": [],
   "source": [
    "hog = cv2.HOGDescriptor()\n",
    "hog.setSVMDetector(cv2.HOGDescriptor_getDefaultPeopleDetector())\n",
    "\n",
    "cap = cv2.VideoCapture(path)\n",
    "\n",
    "while True:\n",
    "    ret, frame = cap.read()\n",
    "    \n",
    "    if not ret:\n",
    "        break\n",
    "    \n",
    "    detected, _ = hog.detectMultiScale(frame)\n",
    "    \n",
    "    for (x,y,w,h) in detected:\n",
    "        cv2.rectangle(frame, (x,y,w,h), (0,255,0), 3)\n",
    "        \n",
    "    cv2.imshow('Detected', frame)\n",
    "    \n",
    "    if cv2.waitKey(10)==27:\n",
    "        break\n",
    "    \n",
    "cv2.destroyAllWindows()\n",
    "for i in range (1,5):\n",
    "    cv2.waitKey(1)"
   ]
  },
  {
   "cell_type": "code",
   "execution_count": 13,
   "metadata": {},
   "outputs": [
    {
     "data": {
      "text/plain": [
       "'/Users/monica_air/Documents/CCTV/key_point'"
      ]
     },
     "execution_count": 13,
     "metadata": {},
     "output_type": "execute_result"
    }
   ],
   "source": [
    "/pwd"
   ]
  },
  {
   "cell_type": "code",
   "execution_count": 3,
   "metadata": {},
   "outputs": [],
   "source": [
    "body_cascade = cv2.CascadeClassifier('../haarcascade_fullbody.xml')"
   ]
  },
  {
   "cell_type": "code",
   "execution_count": 8,
   "metadata": {},
   "outputs": [],
   "source": [
    "# hog.setSVMDetector(cv2.HOGDescriptor_getDefaultPeopleDetector())\n",
    "\n",
    "cap = cv2.VideoCapture(path)\n",
    "\n",
    "while True:\n",
    "    ret, frame = cap.read()\n",
    "    \n",
    "    if not ret:\n",
    "        break\n",
    "    \n",
    "    detected = body_cascade.detectMultiScale(frame,1.01, 10, minSize=(80, 80))\n",
    "    \n",
    "    for (x,y,w,h) in detected:\n",
    "        cv2.rectangle(frame, (x,y,w,h), (0,255,0), 3)\n",
    "        \n",
    "    cv2.imshow('Detected', frame)\n",
    "        \n",
    "    if cv2.waitKey(10)==27:\n",
    "        break\n",
    "    \n",
    "cv2.destroyAllWindows()\n",
    "for i in range (1,5):\n",
    "    cv2.waitKey(1)"
   ]
  },
  {
   "cell_type": "code",
   "execution_count": null,
   "metadata": {},
   "outputs": [],
   "source": []
  }
 ],
 "metadata": {
  "kernelspec": {
   "display_name": "Python 3.8.13 ('tensorflow')",
   "language": "python",
   "name": "python3"
  },
  "language_info": {
   "codemirror_mode": {
    "name": "ipython",
    "version": 3
   },
   "file_extension": ".py",
   "mimetype": "text/x-python",
   "name": "python",
   "nbconvert_exporter": "python",
   "pygments_lexer": "ipython3",
   "version": "3.8.13"
  },
  "orig_nbformat": 4,
  "vscode": {
   "interpreter": {
    "hash": "e5fc6666c85b18b5bf388537a76d68e823b677b629dc6d39e5a962edf5f9a7b8"
   }
  }
 },
 "nbformat": 4,
 "nbformat_minor": 2
}
