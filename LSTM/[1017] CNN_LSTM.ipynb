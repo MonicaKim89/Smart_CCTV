{
 "cells": [
  {
   "cell_type": "code",
   "execution_count": 104,
   "metadata": {},
   "outputs": [
    {
     "name": "stdout",
     "output_type": "stream",
     "text": [
      "/Users/kimmonica/Documents/Smart_CCTV/LSTM\n",
      "[name: \"/device:CPU:0\"\n",
      "device_type: \"CPU\"\n",
      "memory_limit: 268435456\n",
      "locality {\n",
      "}\n",
      "incarnation: 3995480733113319671\n",
      "xla_global_id: -1\n",
      ", name: \"/device:GPU:0\"\n",
      "device_type: \"GPU\"\n",
      "locality {\n",
      "  bus_id: 1\n",
      "}\n",
      "incarnation: 10253625956303766852\n",
      "physical_device_desc: \"device: 0, name: METAL, pci bus id: <undefined>\"\n",
      "xla_global_id: -1\n",
      "]\n",
      "tf 2.9.2\n",
      "keras 2.9.0\n",
      "set_global_determinism(seed=1337) 이거 꼭 해라\n",
      "set_global_determinism(seed=1337) 이거 꼭 해라\n",
      "set_global_determinism(seed=1337) 이거 꼭 해라\n"
     ]
    },
    {
     "name": "stderr",
     "output_type": "stream",
     "text": [
      "2022-10-17 23:43:22.334645: I tensorflow/core/common_runtime/pluggable_device/pluggable_device_factory.cc:305] Could not identify NUMA node of platform GPU ID 0, defaulting to 0. Your kernel may not have been built with NUMA support.\n",
      "2022-10-17 23:43:22.334670: I tensorflow/core/common_runtime/pluggable_device/pluggable_device_factory.cc:271] Created TensorFlow device (/device:GPU:0 with 0 MB memory) -> physical PluggableDevice (device: 0, name: METAL, pci bus id: <undefined>)\n"
     ]
    }
   ],
   "source": [
    "%cd /Users/kimmonica/Documents/Smart_CCTV/LSTM\n",
    "\n",
    "from basic_preprocessing import *\n",
    "from deeplearning_check import *\n",
    "from video_info import *\n",
    "import cv2\n",
    "import numpy as np\n",
    "import os\n",
    "from matplotlib import pyplot as plt\n",
    "import time\n",
    "import mediapipe as mp\n",
    "import os\n",
    "\n",
    "gpu_check()\n",
    "set_global_determinism(seed=SEED)"
   ]
  },
  {
   "cell_type": "code",
   "execution_count": 105,
   "metadata": {},
   "outputs": [
    {
     "data": {
      "text/plain": [
       "'1.22.4'"
      ]
     },
     "execution_count": 105,
     "metadata": {},
     "output_type": "execute_result"
    }
   ],
   "source": [
    "np.__version__"
   ]
  },
  {
   "cell_type": "code",
   "execution_count": 106,
   "metadata": {},
   "outputs": [],
   "source": [
    "DATA_PATH = os.path.join('/Users/kimmonica/Documents/Smart_CCTV/dataset2/')\n",
    "actions = np.array(['fall', 'left'])"
   ]
  },
  {
   "cell_type": "code",
   "execution_count": 107,
   "metadata": {},
   "outputs": [
    {
     "data": {
      "text/plain": [
       "{'fall': 0, 'left': 1}"
      ]
     },
     "execution_count": 107,
     "metadata": {},
     "output_type": "execute_result"
    }
   ],
   "source": [
    "label_map = {label:num for num, label in enumerate(actions)}\n",
    "label_map"
   ]
  },
  {
   "cell_type": "code",
   "execution_count": 108,
   "metadata": {},
   "outputs": [],
   "source": [
    "sequences, labels = [], []\n",
    "for action in actions:\n",
    "    for sequence in range(160):\n",
    "        window = []\n",
    "        for frame_num in range(400):\n",
    "            try:\n",
    "                res = np.load(os.path.join(DATA_PATH, action, str(sequence), \"{}.npy\".format(frame_num)))\n",
    "            except:\n",
    "                pass\n",
    "            window.append(res)\n",
    "        sequences.append(window)\n",
    "        labels.append(label_map[action])"
   ]
  },
  {
   "cell_type": "code",
   "execution_count": null,
   "metadata": {},
   "outputs": [],
   "source": [
    "X = np.array(sequences)"
   ]
  },
  {
   "cell_type": "code",
   "execution_count": null,
   "metadata": {},
   "outputs": [
    {
     "data": {
      "text/plain": [
       "(320, 400, 1662)"
      ]
     },
     "execution_count": 40,
     "metadata": {},
     "output_type": "execute_result"
    }
   ],
   "source": [
    "X.shape"
   ]
  },
  {
   "cell_type": "code",
   "execution_count": null,
   "metadata": {},
   "outputs": [],
   "source": [
    "y = to_categorical(labels).astype(int)"
   ]
  },
  {
   "cell_type": "code",
   "execution_count": null,
   "metadata": {},
   "outputs": [],
   "source": [
    "X_train, X_test, y_train, y_test = train_test_split(X, y, test_size=0.1, random_state=1337)"
   ]
  },
  {
   "cell_type": "code",
   "execution_count": null,
   "metadata": {},
   "outputs": [
    {
     "data": {
      "text/plain": [
       "(32, 2)"
      ]
     },
     "execution_count": 43,
     "metadata": {},
     "output_type": "execute_result"
    }
   ],
   "source": [
    "\n",
    "y_test.shape"
   ]
  },
  {
   "cell_type": "markdown",
   "metadata": {},
   "source": [
    "### MODEL"
   ]
  },
  {
   "cell_type": "code",
   "execution_count": null,
   "metadata": {},
   "outputs": [],
   "source": [
    "from tensorflow.keras.models import Sequential\n",
    "from tensorflow.keras.layers import LSTM, Dense\n",
    "from tensorflow.keras.callbacks import TensorBoard"
   ]
  },
  {
   "cell_type": "code",
   "execution_count": null,
   "metadata": {},
   "outputs": [],
   "source": [
    "log_dir = os.path.join('Logs')\n",
    "tb_callback = TensorBoard(log_dir=log_dir)"
   ]
  },
  {
   "cell_type": "code",
   "execution_count": null,
   "metadata": {},
   "outputs": [],
   "source": [
    "import tensorflow as tf\n",
    "\n",
    "from tensorflow.keras.layers import Dense, Conv1D, LSTM, Input, TimeDistributed\n",
    "from tensorflow.keras.models import Model"
   ]
  },
  {
   "cell_type": "code",
   "execution_count": null,
   "metadata": {},
   "outputs": [],
   "source": [
    "import numpy as np"
   ]
  },
  {
   "cell_type": "code",
   "execution_count": null,
   "metadata": {},
   "outputs": [
    {
     "data": {
      "text/plain": [
       "'1.22.4'"
      ]
     },
     "execution_count": 48,
     "metadata": {},
     "output_type": "execute_result"
    }
   ],
   "source": [
    "np.__version__"
   ]
  },
  {
   "cell_type": "code",
   "execution_count": null,
   "metadata": {},
   "outputs": [],
   "source": [
    "model = Sequential()\n",
    "model.add(LSTM(100, input_shape=(400,1662)))\n",
    "model.add(Dropout(0.5))\n",
    "model.add(Dense(100, activation='relu'))\n",
    "model.add(Dense(actions.shape[0], activation='softmax'))\n",
    "model.compile(optimizer='Adam', loss='categorical_crossentropy', metrics=['categorical_accuracy'])"
   ]
  },
  {
   "cell_type": "code",
   "execution_count": null,
   "metadata": {},
   "outputs": [],
   "source": [
    "res = [.8, 0.3]"
   ]
  },
  {
   "cell_type": "code",
   "execution_count": null,
   "metadata": {},
   "outputs": [
    {
     "data": {
      "text/plain": [
       "'fall'"
      ]
     },
     "execution_count": 51,
     "metadata": {},
     "output_type": "execute_result"
    }
   ],
   "source": [
    "actions[np.argmax(res)]"
   ]
  },
  {
   "cell_type": "code",
   "execution_count": null,
   "metadata": {},
   "outputs": [],
   "source": [
    "checkpoint_path = \"check_point/cp.ckpt\"\n",
    "checkpoint_dir = os.path.dirname(checkpoint_path)"
   ]
  },
  {
   "cell_type": "code",
   "execution_count": null,
   "metadata": {},
   "outputs": [],
   "source": [
    "from tensorflow.keras.callbacks import EarlyStopping, ModelCheckpoint, ReduceLROnPlateau, CSVLogger\n",
    "\n",
    "es = EarlyStopping(patience=20)\n",
    "mc = ModelCheckpoint(filepath=checkpoint_path,\n",
    "            monitor='loss', \n",
    "            mode='min',\n",
    "            save_best_only=True,\n",
    "            save_weights_only=True,\n",
    "            verbose=1)\n",
    "rlr = ReduceLROnPlateau(factor=0.1, patience=5)\n",
    "csvlogger = CSVLogger(\"file_name.log\")"
   ]
  },
  {
   "cell_type": "code",
   "execution_count": null,
   "metadata": {},
   "outputs": [
    {
     "name": "stdout",
     "output_type": "stream",
     "text": [
      "Epoch 1/30\n"
     ]
    },
    {
     "name": "stderr",
     "output_type": "stream",
     "text": [
      "2022-10-17 23:25:50.808725: I tensorflow/core/grappler/optimizers/custom_graph_optimizer_registry.cc:113] Plugin optimizer for device_type GPU is enabled.\n",
      "2022-10-17 23:25:51.014413: I tensorflow/core/grappler/optimizers/custom_graph_optimizer_registry.cc:113] Plugin optimizer for device_type GPU is enabled.\n",
      "2022-10-17 23:25:51.933443: I tensorflow/core/grappler/optimizers/custom_graph_optimizer_registry.cc:113] Plugin optimizer for device_type GPU is enabled.\n"
     ]
    },
    {
     "name": "stdout",
     "output_type": "stream",
     "text": [
      "18/18 [==============================] - ETA: 0s - loss: 0.6454 - categorical_accuracy: 0.6146"
     ]
    },
    {
     "name": "stderr",
     "output_type": "stream",
     "text": [
      "2022-10-17 23:25:56.816349: I tensorflow/core/grappler/optimizers/custom_graph_optimizer_registry.cc:113] Plugin optimizer for device_type GPU is enabled.\n",
      "2022-10-17 23:25:56.902621: I tensorflow/core/grappler/optimizers/custom_graph_optimizer_registry.cc:113] Plugin optimizer for device_type GPU is enabled.\n"
     ]
    },
    {
     "name": "stdout",
     "output_type": "stream",
     "text": [
      "\n",
      "Epoch 1: loss improved from inf to 0.64537, saving model to check_point/cp.ckpt\n",
      "18/18 [==============================] - 8s 191ms/step - loss: 0.6454 - categorical_accuracy: 0.6146 - val_loss: 0.5752 - val_categorical_accuracy: 0.6562 - lr: 0.0010\n",
      "Epoch 2/30\n",
      "18/18 [==============================] - ETA: 0s - loss: 0.5642 - categorical_accuracy: 0.6979\n",
      "Epoch 2: loss improved from 0.64537 to 0.56418, saving model to check_point/cp.ckpt\n",
      "18/18 [==============================] - 2s 123ms/step - loss: 0.5642 - categorical_accuracy: 0.6979 - val_loss: 0.7276 - val_categorical_accuracy: 0.5625 - lr: 0.0010\n",
      "Epoch 3/30\n",
      "18/18 [==============================] - ETA: 0s - loss: 0.5343 - categorical_accuracy: 0.7083\n",
      "Epoch 3: loss improved from 0.56418 to 0.53435, saving model to check_point/cp.ckpt\n",
      "18/18 [==============================] - 2s 120ms/step - loss: 0.5343 - categorical_accuracy: 0.7083 - val_loss: 0.5310 - val_categorical_accuracy: 0.6250 - lr: 0.0010\n",
      "Epoch 4/30\n",
      "18/18 [==============================] - ETA: 0s - loss: 0.4634 - categorical_accuracy: 0.7743\n",
      "Epoch 4: loss improved from 0.53435 to 0.46337, saving model to check_point/cp.ckpt\n",
      "18/18 [==============================] - 2s 117ms/step - loss: 0.4634 - categorical_accuracy: 0.7743 - val_loss: 0.4825 - val_categorical_accuracy: 0.7812 - lr: 0.0010\n",
      "Epoch 5/30\n",
      "18/18 [==============================] - ETA: 0s - loss: 0.5699 - categorical_accuracy: 0.6944\n",
      "Epoch 5: loss did not improve from 0.46337\n",
      "18/18 [==============================] - 2s 115ms/step - loss: 0.5699 - categorical_accuracy: 0.6944 - val_loss: 0.4982 - val_categorical_accuracy: 0.7500 - lr: 0.0010\n",
      "Epoch 6/30\n",
      "18/18 [==============================] - ETA: 0s - loss: 0.4589 - categorical_accuracy: 0.7882\n",
      "Epoch 6: loss improved from 0.46337 to 0.45895, saving model to check_point/cp.ckpt\n",
      "18/18 [==============================] - 2s 122ms/step - loss: 0.4589 - categorical_accuracy: 0.7882 - val_loss: 0.5730 - val_categorical_accuracy: 0.6875 - lr: 0.0010\n",
      "Epoch 7/30\n",
      "18/18 [==============================] - ETA: 0s - loss: 0.4725 - categorical_accuracy: 0.7847\n",
      "Epoch 7: loss did not improve from 0.45895\n",
      "18/18 [==============================] - 2s 114ms/step - loss: 0.4725 - categorical_accuracy: 0.7847 - val_loss: 0.6014 - val_categorical_accuracy: 0.6250 - lr: 0.0010\n",
      "Epoch 8/30\n",
      "18/18 [==============================] - ETA: 0s - loss: 0.3868 - categorical_accuracy: 0.8229\n",
      "Epoch 8: loss improved from 0.45895 to 0.38676, saving model to check_point/cp.ckpt\n",
      "18/18 [==============================] - 2s 119ms/step - loss: 0.3868 - categorical_accuracy: 0.8229 - val_loss: 0.3604 - val_categorical_accuracy: 0.8750 - lr: 0.0010\n",
      "Epoch 9/30\n",
      "18/18 [==============================] - ETA: 0s - loss: 0.4508 - categorical_accuracy: 0.8264\n",
      "Epoch 9: loss did not improve from 0.38676\n",
      "18/18 [==============================] - 2s 116ms/step - loss: 0.4508 - categorical_accuracy: 0.8264 - val_loss: 0.4375 - val_categorical_accuracy: 0.8125 - lr: 0.0010\n",
      "Epoch 10/30\n",
      "18/18 [==============================] - ETA: 0s - loss: 0.3902 - categorical_accuracy: 0.8403\n",
      "Epoch 10: loss did not improve from 0.38676\n",
      "18/18 [==============================] - 2s 120ms/step - loss: 0.3902 - categorical_accuracy: 0.8403 - val_loss: 0.5622 - val_categorical_accuracy: 0.6250 - lr: 0.0010\n",
      "Epoch 11/30\n",
      "18/18 [==============================] - ETA: 0s - loss: 0.3647 - categorical_accuracy: 0.8576\n",
      "Epoch 11: loss improved from 0.38676 to 0.36470, saving model to check_point/cp.ckpt\n",
      "18/18 [==============================] - 2s 124ms/step - loss: 0.3647 - categorical_accuracy: 0.8576 - val_loss: 0.3273 - val_categorical_accuracy: 0.8750 - lr: 0.0010\n",
      "Epoch 12/30\n",
      "18/18 [==============================] - ETA: 0s - loss: 0.3084 - categorical_accuracy: 0.8889\n",
      "Epoch 12: loss improved from 0.36470 to 0.30842, saving model to check_point/cp.ckpt\n",
      "18/18 [==============================] - 2s 120ms/step - loss: 0.3084 - categorical_accuracy: 0.8889 - val_loss: 0.4110 - val_categorical_accuracy: 0.8438 - lr: 0.0010\n",
      "Epoch 13/30\n",
      "18/18 [==============================] - ETA: 0s - loss: 0.3350 - categorical_accuracy: 0.8646\n",
      "Epoch 13: loss did not improve from 0.30842\n",
      "18/18 [==============================] - 2s 117ms/step - loss: 0.3350 - categorical_accuracy: 0.8646 - val_loss: 0.3927 - val_categorical_accuracy: 0.8438 - lr: 0.0010\n",
      "Epoch 14/30\n",
      "18/18 [==============================] - ETA: 0s - loss: 0.3244 - categorical_accuracy: 0.8785\n",
      "Epoch 14: loss did not improve from 0.30842\n",
      "18/18 [==============================] - 2s 117ms/step - loss: 0.3244 - categorical_accuracy: 0.8785 - val_loss: 0.4307 - val_categorical_accuracy: 0.8438 - lr: 0.0010\n",
      "Epoch 15/30\n",
      "18/18 [==============================] - ETA: 0s - loss: 0.3386 - categorical_accuracy: 0.8576\n",
      "Epoch 15: loss did not improve from 0.30842\n",
      "18/18 [==============================] - 2s 117ms/step - loss: 0.3386 - categorical_accuracy: 0.8576 - val_loss: 0.5481 - val_categorical_accuracy: 0.6562 - lr: 0.0010\n",
      "Epoch 16/30\n",
      "18/18 [==============================] - ETA: 0s - loss: 0.3266 - categorical_accuracy: 0.8646\n",
      "Epoch 16: loss did not improve from 0.30842\n",
      "18/18 [==============================] - 2s 116ms/step - loss: 0.3266 - categorical_accuracy: 0.8646 - val_loss: 0.4008 - val_categorical_accuracy: 0.8750 - lr: 0.0010\n",
      "Epoch 17/30\n",
      "18/18 [==============================] - ETA: 0s - loss: 0.2711 - categorical_accuracy: 0.9062\n",
      "Epoch 17: loss improved from 0.30842 to 0.27107, saving model to check_point/cp.ckpt\n",
      "18/18 [==============================] - 2s 119ms/step - loss: 0.2711 - categorical_accuracy: 0.9062 - val_loss: 0.3423 - val_categorical_accuracy: 0.9062 - lr: 1.0000e-04\n",
      "Epoch 18/30\n",
      "18/18 [==============================] - ETA: 0s - loss: 0.2297 - categorical_accuracy: 0.9271\n",
      "Epoch 18: loss improved from 0.27107 to 0.22969, saving model to check_point/cp.ckpt\n",
      "18/18 [==============================] - 2s 119ms/step - loss: 0.2297 - categorical_accuracy: 0.9271 - val_loss: 0.3468 - val_categorical_accuracy: 0.9062 - lr: 1.0000e-04\n",
      "Epoch 19/30\n",
      "18/18 [==============================] - ETA: 0s - loss: 0.2578 - categorical_accuracy: 0.9132\n",
      "Epoch 19: loss did not improve from 0.22969\n",
      "18/18 [==============================] - 2s 117ms/step - loss: 0.2578 - categorical_accuracy: 0.9132 - val_loss: 0.3544 - val_categorical_accuracy: 0.9062 - lr: 1.0000e-04\n",
      "Epoch 20/30\n",
      "18/18 [==============================] - ETA: 0s - loss: 0.2448 - categorical_accuracy: 0.9236\n",
      "Epoch 20: loss did not improve from 0.22969\n",
      "18/18 [==============================] - 2s 117ms/step - loss: 0.2448 - categorical_accuracy: 0.9236 - val_loss: 0.3422 - val_categorical_accuracy: 0.9062 - lr: 1.0000e-04\n",
      "Epoch 21/30\n",
      "18/18 [==============================] - ETA: 0s - loss: 0.2197 - categorical_accuracy: 0.9306\n",
      "Epoch 21: loss improved from 0.22969 to 0.21974, saving model to check_point/cp.ckpt\n",
      "18/18 [==============================] - 2s 123ms/step - loss: 0.2197 - categorical_accuracy: 0.9306 - val_loss: 0.3366 - val_categorical_accuracy: 0.9062 - lr: 1.0000e-04\n",
      "Epoch 22/30\n",
      "18/18 [==============================] - ETA: 0s - loss: 0.2051 - categorical_accuracy: 0.9375\n",
      "Epoch 22: loss improved from 0.21974 to 0.20514, saving model to check_point/cp.ckpt\n",
      "18/18 [==============================] - 2s 123ms/step - loss: 0.2051 - categorical_accuracy: 0.9375 - val_loss: 0.3341 - val_categorical_accuracy: 0.9062 - lr: 1.0000e-05\n",
      "Epoch 23/30\n",
      "18/18 [==============================] - ETA: 0s - loss: 0.2149 - categorical_accuracy: 0.9306\n",
      "Epoch 23: loss did not improve from 0.20514\n",
      "18/18 [==============================] - 2s 121ms/step - loss: 0.2149 - categorical_accuracy: 0.9306 - val_loss: 0.3344 - val_categorical_accuracy: 0.9062 - lr: 1.0000e-05\n",
      "Epoch 24/30\n",
      "18/18 [==============================] - ETA: 0s - loss: 0.2055 - categorical_accuracy: 0.9340\n",
      "Epoch 24: loss did not improve from 0.20514\n",
      "18/18 [==============================] - 2s 116ms/step - loss: 0.2055 - categorical_accuracy: 0.9340 - val_loss: 0.3373 - val_categorical_accuracy: 0.9062 - lr: 1.0000e-05\n",
      "Epoch 25/30\n",
      "18/18 [==============================] - ETA: 0s - loss: 0.2079 - categorical_accuracy: 0.9306\n",
      "Epoch 25: loss did not improve from 0.20514\n",
      "18/18 [==============================] - 2s 117ms/step - loss: 0.2079 - categorical_accuracy: 0.9306 - val_loss: 0.3357 - val_categorical_accuracy: 0.9062 - lr: 1.0000e-05\n",
      "Epoch 26/30\n",
      "18/18 [==============================] - ETA: 0s - loss: 0.2152 - categorical_accuracy: 0.9375\n",
      "Epoch 26: loss did not improve from 0.20514\n",
      "18/18 [==============================] - 2s 117ms/step - loss: 0.2152 - categorical_accuracy: 0.9375 - val_loss: 0.3386 - val_categorical_accuracy: 0.9062 - lr: 1.0000e-05\n",
      "Epoch 27/30\n",
      "18/18 [==============================] - ETA: 0s - loss: 0.2157 - categorical_accuracy: 0.9236\n",
      "Epoch 27: loss did not improve from 0.20514\n",
      "18/18 [==============================] - 2s 117ms/step - loss: 0.2157 - categorical_accuracy: 0.9236 - val_loss: 0.3381 - val_categorical_accuracy: 0.9062 - lr: 1.0000e-06\n",
      "Epoch 28/30\n",
      "18/18 [==============================] - ETA: 0s - loss: 0.2127 - categorical_accuracy: 0.9306\n",
      "Epoch 28: loss did not improve from 0.20514\n",
      "18/18 [==============================] - 2s 117ms/step - loss: 0.2127 - categorical_accuracy: 0.9306 - val_loss: 0.3384 - val_categorical_accuracy: 0.9062 - lr: 1.0000e-06\n",
      "Epoch 29/30\n",
      "18/18 [==============================] - ETA: 0s - loss: 0.2127 - categorical_accuracy: 0.9306\n",
      "Epoch 29: loss did not improve from 0.20514\n",
      "18/18 [==============================] - 2s 117ms/step - loss: 0.2127 - categorical_accuracy: 0.9306 - val_loss: 0.3384 - val_categorical_accuracy: 0.9062 - lr: 1.0000e-06\n",
      "Epoch 30/30\n",
      "18/18 [==============================] - ETA: 0s - loss: 0.2109 - categorical_accuracy: 0.9271\n",
      "Epoch 30: loss did not improve from 0.20514\n",
      "18/18 [==============================] - 2s 116ms/step - loss: 0.2109 - categorical_accuracy: 0.9271 - val_loss: 0.3386 - val_categorical_accuracy: 0.9062 - lr: 1.0000e-06\n"
     ]
    }
   ],
   "source": [
    "history = model.fit(X_train, y_train, batch_size= 16, validation_data=(X_test,y_test), epochs=30, callbacks=[mc, rlr, csvlogger])"
   ]
  },
  {
   "cell_type": "code",
   "execution_count": null,
   "metadata": {},
   "outputs": [
    {
     "name": "stdout",
     "output_type": "stream",
     "text": [
      "Model: \"sequential_1\"\n",
      "_________________________________________________________________\n",
      " Layer (type)                Output Shape              Param #   \n",
      "=================================================================\n",
      " lstm_1 (LSTM)               (None, 100)               705200    \n",
      "                                                                 \n",
      " dropout_1 (Dropout)         (None, 100)               0         \n",
      "                                                                 \n",
      " dense_2 (Dense)             (None, 100)               10100     \n",
      "                                                                 \n",
      " dense_3 (Dense)             (None, 2)                 202       \n",
      "                                                                 \n",
      "=================================================================\n",
      "Total params: 715,502\n",
      "Trainable params: 715,502\n",
      "Non-trainable params: 0\n",
      "_________________________________________________________________\n"
     ]
    }
   ],
   "source": [
    "model.summary()"
   ]
  },
  {
   "cell_type": "code",
   "execution_count": null,
   "metadata": {},
   "outputs": [
    {
     "name": "stdout",
     "output_type": "stream",
     "text": [
      "dict_keys(['loss', 'categorical_accuracy', 'val_loss', 'val_categorical_accuracy', 'lr'])\n"
     ]
    }
   ],
   "source": [
    "history_dict = history.history\n",
    "print(history_dict.keys())"
   ]
  },
  {
   "cell_type": "code",
   "execution_count": null,
   "metadata": {},
   "outputs": [
    {
     "data": {
      "image/png": "[encoded data removed]",
      "text/plain": [
       "<Figure size 1500x500 with 2 Axes>"
      ]
     },
     "metadata": {},
     "output_type": "display_data"
    }
   ],
   "source": [
    "acc = history.history['categorical_accuracy']\n",
    "val_acc = history.history['val_categorical_accuracy']\n",
    "\n",
    "loss = history.history['loss']\n",
    "val_loss = history.history['val_loss']\n",
    "\n",
    "epochs = range(1, len(acc) +1)\n",
    "    \n",
    "    \n",
    "\n",
    "fig = plt.figure()\n",
    "fig.set_size_inches(15, 5)\n",
    "\n",
    "fig.add_subplot(1, 2, 1)\n",
    "plt.plot(epochs, acc, 'b', label ='Training acc')\n",
    "plt.plot(epochs, val_acc, 'r', label = 'Validation acc')\n",
    "plt.title('Training and validation accuracy')\n",
    "plt.legend()\n",
    "\n",
    "# plt.figure()\n",
    "fig.add_subplot(1, 2, 2) \n",
    "plt.plot(epochs, loss, 'b', label = \"Training loss\")\n",
    "plt.plot(epochs, val_loss, 'r', label ='Validation loss')\n",
    "plt.title('Training and validation lose')\n",
    "plt.legend()\n",
    "\n",
    "plt.show()"
   ]
  },
  {
   "cell_type": "markdown",
   "metadata": {},
   "source": [
    "### Predictions"
   ]
  },
  {
   "cell_type": "code",
   "execution_count": null,
   "metadata": {},
   "outputs": [
    {
     "name": "stdout",
     "output_type": "stream",
     "text": [
      "1/1 [==============================] - 0s 136ms/step\n"
     ]
    }
   ],
   "source": [
    "res = model.predict(X_test)"
   ]
  },
  {
   "cell_type": "code",
   "execution_count": null,
   "metadata": {},
   "outputs": [
    {
     "data": {
      "text/plain": [
       "'left'"
      ]
     },
     "execution_count": 73,
     "metadata": {},
     "output_type": "execute_result"
    }
   ],
   "source": [
    "actions[np.argmax(res[0])]"
   ]
  },
  {
   "cell_type": "code",
   "execution_count": null,
   "metadata": {},
   "outputs": [
    {
     "data": {
      "text/plain": [
       "'left'"
      ]
     },
     "execution_count": 74,
     "metadata": {},
     "output_type": "execute_result"
    }
   ],
   "source": [
    "actions[np.argmax(y_test[0])]"
   ]
  },
  {
   "cell_type": "markdown",
   "metadata": {},
   "source": [
    "### Save Weights"
   ]
  },
  {
   "cell_type": "code",
   "execution_count": null,
   "metadata": {},
   "outputs": [],
   "source": [
    "model.save('best_fall_left.h5')"
   ]
  },
  {
   "cell_type": "markdown",
   "metadata": {},
   "source": [
    "### Acc"
   ]
  },
  {
   "cell_type": "code",
   "execution_count": null,
   "metadata": {},
   "outputs": [],
   "source": [
    "from sklearn.metrics import multilabel_confusion_matrix, accuracy_score"
   ]
  },
  {
   "cell_type": "code",
   "execution_count": null,
   "metadata": {},
   "outputs": [],
   "source": [
    "from sklearn.metrics import confusion_matrix, accuracy_score, plot_confusion_matrix"
   ]
  },
  {
   "cell_type": "code",
   "execution_count": null,
   "metadata": {},
   "outputs": [
    {
     "name": "stdout",
     "output_type": "stream",
     "text": [
      "1/1 [==============================] - 0s 136ms/step\n"
     ]
    }
   ],
   "source": [
    "yhat = model.predict(X_test)"
   ]
  },
  {
   "cell_type": "code",
   "execution_count": null,
   "metadata": {},
   "outputs": [],
   "source": [
    "ytrue = np.argmax(y_test, axis=1).tolist()\n",
    "yhat = np.argmax(yhat, axis=1).tolist()"
   ]
  },
  {
   "cell_type": "code",
   "execution_count": null,
   "metadata": {},
   "outputs": [
    {
     "data": {
      "text/plain": [
       "array([[[18,  2],\n",
       "        [ 1, 11]],\n",
       "\n",
       "       [[11,  1],\n",
       "        [ 2, 18]]])"
      ]
     },
     "execution_count": 65,
     "metadata": {},
     "output_type": "execute_result"
    }
   ],
   "source": [
    "multilabel_confusion_matrix(ytrue, yhat)"
   ]
  },
  {
   "cell_type": "code",
   "execution_count": null,
   "metadata": {},
   "outputs": [
    {
     "data": {
      "text/plain": [
       "array([[11,  1],\n",
       "       [ 2, 18]])"
      ]
     },
     "execution_count": 88,
     "metadata": {},
     "output_type": "execute_result"
    }
   ],
   "source": [
    "con_test = confusion_matrix(ytrue, yhat)\n",
    "con_test"
   ]
  },
  {
   "cell_type": "code",
   "execution_count": null,
   "metadata": {},
   "outputs": [],
   "source": []
  },
  {
   "cell_type": "code",
   "execution_count": null,
   "metadata": {},
   "outputs": [
    {
     "name": "stdout",
     "output_type": "stream",
     "text": [
      "              precision    recall  f1-score   support\n",
      "\n",
      "           0       0.85      0.92      0.88        12\n",
      "           1       0.95      0.90      0.92        20\n",
      "\n",
      "    accuracy                           0.91        32\n",
      "   macro avg       0.90      0.91      0.90        32\n",
      "weighted avg       0.91      0.91      0.91        32\n",
      "\n"
     ]
    }
   ],
   "source": [
    "report =classification_report(ytrue, yhat)\n",
    "print(report)"
   ]
  },
  {
   "cell_type": "code",
   "execution_count": null,
   "metadata": {},
   "outputs": [
    {
     "data": {
      "text/plain": [
       "0.90625"
      ]
     },
     "execution_count": 89,
     "metadata": {},
     "output_type": "execute_result"
    }
   ],
   "source": [
    "accuracy_score(ytrue, yhat)"
   ]
  },
  {
   "cell_type": "code",
   "execution_count": null,
   "metadata": {},
   "outputs": [],
   "source": []
  }
 ],
 "metadata": {
  "kernelspec": {
   "display_name": "Python 3.9.13 ('tensorflow')",
   "language": "python",
   "name": "python3"
  },
  "language_info": {
   "codemirror_mode": {
    "name": "ipython",
    "version": 3
   },
   "file_extension": ".py",
   "mimetype": "text/x-python",
   "name": "python",
   "nbconvert_exporter": "python",
   "pygments_lexer": "ipython3",
   "version": "3.9.13"
  },
  "orig_nbformat": 4,
  "vscode": {
   "interpreter": {
    "hash": "9df977a7244e09ba52d6fe32a503ae86d5cb00ab234ef9bc3f093fdef1b38003"
   }
  }
 },
 "nbformat": 4,
 "nbformat_minor": 2
}
